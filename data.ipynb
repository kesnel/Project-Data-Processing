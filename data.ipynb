{
 "cells": [
  {
   "cell_type": "markdown",
   "metadata": {},
   "source": [
    "#### Install all requirements for the project"
   ]
  },
  {
   "cell_type": "code",
   "execution_count": 2,
   "metadata": {},
   "outputs": [
    {
     "name": "stdout",
     "output_type": "stream",
     "text": [
      "Requirement already satisfied: numpy in /Users/kesnel/opt/anaconda3/lib/python3.8/site-packages (1.19.2)\n",
      "Requirement already satisfied: pandas in /Users/kesnel/opt/anaconda3/lib/python3.8/site-packages (1.1.3)\n",
      "Requirement already satisfied: numpy>=1.15.4 in /Users/kesnel/opt/anaconda3/lib/python3.8/site-packages (from pandas) (1.19.2)\n",
      "Requirement already satisfied: pytz>=2017.2 in /Users/kesnel/opt/anaconda3/lib/python3.8/site-packages (from pandas) (2020.1)\n",
      "Requirement already satisfied: python-dateutil>=2.7.3 in /Users/kesnel/opt/anaconda3/lib/python3.8/site-packages (from pandas) (2.8.1)\n",
      "Requirement already satisfied: six>=1.5 in /Users/kesnel/opt/anaconda3/lib/python3.8/site-packages (from python-dateutil>=2.7.3->pandas) (1.15.0)\n",
      "Requirement already satisfied: matplotlib in /Users/kesnel/opt/anaconda3/lib/python3.8/site-packages (3.3.2)\n",
      "Requirement already satisfied: numpy>=1.15 in /Users/kesnel/opt/anaconda3/lib/python3.8/site-packages (from matplotlib) (1.19.2)\n",
      "Requirement already satisfied: cycler>=0.10 in /Users/kesnel/opt/anaconda3/lib/python3.8/site-packages (from matplotlib) (0.10.0)\n",
      "Requirement already satisfied: certifi>=2020.06.20 in /Users/kesnel/opt/anaconda3/lib/python3.8/site-packages (from matplotlib) (2020.6.20)\n",
      "Requirement already satisfied: kiwisolver>=1.0.1 in /Users/kesnel/opt/anaconda3/lib/python3.8/site-packages (from matplotlib) (1.3.0)\n",
      "Requirement already satisfied: pillow>=6.2.0 in /Users/kesnel/opt/anaconda3/lib/python3.8/site-packages (from matplotlib) (8.0.1)\n",
      "Requirement already satisfied: python-dateutil>=2.1 in /Users/kesnel/opt/anaconda3/lib/python3.8/site-packages (from matplotlib) (2.8.1)\n",
      "Requirement already satisfied: pyparsing!=2.0.4,!=2.1.2,!=2.1.6,>=2.0.3 in /Users/kesnel/opt/anaconda3/lib/python3.8/site-packages (from matplotlib) (2.4.7)\n",
      "Requirement already satisfied: six in /Users/kesnel/opt/anaconda3/lib/python3.8/site-packages (from cycler>=0.10->matplotlib) (1.15.0)\n",
      "Requirement already satisfied: seaborn in /Users/kesnel/opt/anaconda3/lib/python3.8/site-packages (0.11.0)\n",
      "Requirement already satisfied: pandas>=0.23 in /Users/kesnel/opt/anaconda3/lib/python3.8/site-packages (from seaborn) (1.1.3)\n",
      "Requirement already satisfied: matplotlib>=2.2 in /Users/kesnel/opt/anaconda3/lib/python3.8/site-packages (from seaborn) (3.3.2)\n",
      "Requirement already satisfied: scipy>=1.0 in /Users/kesnel/opt/anaconda3/lib/python3.8/site-packages (from seaborn) (1.5.2)\n",
      "Requirement already satisfied: numpy>=1.15 in /Users/kesnel/opt/anaconda3/lib/python3.8/site-packages (from seaborn) (1.19.2)\n",
      "Requirement already satisfied: python-dateutil>=2.7.3 in /Users/kesnel/opt/anaconda3/lib/python3.8/site-packages (from pandas>=0.23->seaborn) (2.8.1)\n",
      "Requirement already satisfied: pytz>=2017.2 in /Users/kesnel/opt/anaconda3/lib/python3.8/site-packages (from pandas>=0.23->seaborn) (2020.1)\n",
      "Requirement already satisfied: certifi>=2020.06.20 in /Users/kesnel/opt/anaconda3/lib/python3.8/site-packages (from matplotlib>=2.2->seaborn) (2020.6.20)\n",
      "Requirement already satisfied: pillow>=6.2.0 in /Users/kesnel/opt/anaconda3/lib/python3.8/site-packages (from matplotlib>=2.2->seaborn) (8.0.1)\n",
      "Requirement already satisfied: cycler>=0.10 in /Users/kesnel/opt/anaconda3/lib/python3.8/site-packages (from matplotlib>=2.2->seaborn) (0.10.0)\n",
      "Requirement already satisfied: kiwisolver>=1.0.1 in /Users/kesnel/opt/anaconda3/lib/python3.8/site-packages (from matplotlib>=2.2->seaborn) (1.3.0)\n",
      "Requirement already satisfied: pyparsing!=2.0.4,!=2.1.2,!=2.1.6,>=2.0.3 in /Users/kesnel/opt/anaconda3/lib/python3.8/site-packages (from matplotlib>=2.2->seaborn) (2.4.7)\n",
      "Requirement already satisfied: six>=1.5 in /Users/kesnel/opt/anaconda3/lib/python3.8/site-packages (from python-dateutil>=2.7.3->pandas>=0.23->seaborn) (1.15.0)\n"
     ]
    }
   ],
   "source": [
    "!pip install numpy\n",
    "!pip install pandas\n",
    "!pip install matplotlib\n",
    "!pip install seaborn"
   ]
  },
  {
   "cell_type": "markdown",
   "metadata": {},
   "source": [
    "#### Importing Libraries"
   ]
  },
  {
   "cell_type": "code",
   "execution_count": 3,
   "metadata": {},
   "outputs": [],
   "source": [
    "import numpy as np\n",
    "import pandas as pd\n",
    "import matplotlib.pyplot as plt\n",
    "import seaborn as sns\n",
    "\n",
    "# Path\n",
    "DOCS_PATH = 'docs/'\n",
    "DATA_PATH = 'data/'"
   ]
  },
  {
   "cell_type": "markdown",
   "metadata": {},
   "source": [
    "# Ayiti Analytics Data Processing Bootcamp\n",
    "  Ayiti Analytics Data wants to expand its training centers throughout all the communes of the country. Your role as a data analyst is to help them realize this dream.\n",
    "\n",
    "Its objective is to know which three communes of the country will be the most likely to expand its training centers.\n",
    "\n",
    "Knowing that each cohort must have 30 students\n",
    " \n",
    "* How many applications must be made to select 25% women for each on average\n",
    "\n",
    "* What are the most effective communication channels (Alumni, Facebook, WhatsApp, Friend ...) that will allow a student to be susceptible to selection\n",
    " \n",
    "* What is the average number of university students who should participate in this program\n",
    "* What will be the average number of applications per week that we could have\n",
    "* How many weeks should we extend the application process to select 60 students per commune?\n",
    "* If we were to do all the bootcamp online, who would be the best communes and how many applications would we need to select 30 student and what percentage of students would have a laptop, an internet connection, both at the same time\n",
    "* What are the most effective communication channels (Alumni, Facebook, WhatsApp, Friend ...) that will allow a women to be susceptible to selection\n",
    "\n",
    "### NB \n",
    "Use the same framework of the BA project to complete this project"
   ]
  },
  {
   "cell_type": "markdown",
   "metadata": {},
   "source": [
    ">## Commune dataset"
   ]
  },
  {
   "cell_type": "markdown",
   "metadata": {},
   "source": [
    "#### Importing Data"
   ]
  },
  {
   "cell_type": "code",
   "execution_count": 60,
   "metadata": {},
   "outputs": [
    {
     "data": {
      "text/html": [
       "<div>\n",
       "<style scoped>\n",
       "    .dataframe tbody tr th:only-of-type {\n",
       "        vertical-align: middle;\n",
       "    }\n",
       "\n",
       "    .dataframe tbody tr th {\n",
       "        vertical-align: top;\n",
       "    }\n",
       "\n",
       "    .dataframe thead th {\n",
       "        text-align: right;\n",
       "    }\n",
       "</style>\n",
       "<table border=\"1\" class=\"dataframe\">\n",
       "  <thead>\n",
       "    <tr style=\"text-align: right;\">\n",
       "      <th></th>\n",
       "      <th>Commune_en</th>\n",
       "      <th>Commune_FR</th>\n",
       "      <th>Commune_Id</th>\n",
       "      <th>Departement</th>\n",
       "      <th>ADM1_PCODE</th>\n",
       "    </tr>\n",
       "  </thead>\n",
       "  <tbody>\n",
       "    <tr>\n",
       "      <th>0</th>\n",
       "      <td>Abricots</td>\n",
       "      <td>Abricots</td>\n",
       "      <td>HT0812</td>\n",
       "      <td>Grande'Anse</td>\n",
       "      <td>HT08</td>\n",
       "    </tr>\n",
       "    <tr>\n",
       "      <th>1</th>\n",
       "      <td>Acul du Nord</td>\n",
       "      <td>Acul du Nord</td>\n",
       "      <td>HT0321</td>\n",
       "      <td>North</td>\n",
       "      <td>HT03</td>\n",
       "    </tr>\n",
       "    <tr>\n",
       "      <th>2</th>\n",
       "      <td>Anse-a-Foleur</td>\n",
       "      <td>Anse-à-Foleur</td>\n",
       "      <td>HT0922</td>\n",
       "      <td>North-West</td>\n",
       "      <td>HT09</td>\n",
       "    </tr>\n",
       "    <tr>\n",
       "      <th>3</th>\n",
       "      <td>Anse-a-Pitre</td>\n",
       "      <td>Anse-à-Pître</td>\n",
       "      <td>HT0234</td>\n",
       "      <td>South-East</td>\n",
       "      <td>HT02</td>\n",
       "    </tr>\n",
       "    <tr>\n",
       "      <th>4</th>\n",
       "      <td>Anse-a-Veau</td>\n",
       "      <td>Anse-à-Veau</td>\n",
       "      <td>HT1021</td>\n",
       "      <td>Nippes</td>\n",
       "      <td>HT10</td>\n",
       "    </tr>\n",
       "  </tbody>\n",
       "</table>\n",
       "</div>"
      ],
      "text/plain": [
       "      Commune_en     Commune_FR Commune_Id  Departement ADM1_PCODE\n",
       "0       Abricots       Abricots     HT0812  Grande'Anse       HT08\n",
       "1   Acul du Nord   Acul du Nord     HT0321        North       HT03\n",
       "2  Anse-a-Foleur  Anse-à-Foleur     HT0922   North-West       HT09\n",
       "3   Anse-a-Pitre   Anse-à-Pître     HT0234   South-East       HT02\n",
       "4    Anse-a-Veau    Anse-à-Veau     HT1021       Nippes       HT10"
      ]
     },
     "execution_count": 60,
     "metadata": {},
     "output_type": "execute_result"
    }
   ],
   "source": [
    "commune_df = pd.read_excel((DATA_PATH + \"commune.xlsx\"))\n",
    "commune_df.head(5)"
   ]
  },
  {
   "cell_type": "code",
   "execution_count": null,
   "metadata": {},
   "outputs": [],
   "source": []
  },
  {
   "cell_type": "code",
   "execution_count": null,
   "metadata": {},
   "outputs": [],
   "source": []
  },
  {
   "cell_type": "code",
   "execution_count": null,
   "metadata": {},
   "outputs": [],
   "source": []
  },
  {
   "cell_type": "code",
   "execution_count": null,
   "metadata": {},
   "outputs": [],
   "source": []
  },
  {
   "cell_type": "code",
   "execution_count": null,
   "metadata": {},
   "outputs": [],
   "source": []
  },
  {
   "cell_type": "code",
   "execution_count": null,
   "metadata": {},
   "outputs": [],
   "source": []
  },
  {
   "cell_type": "markdown",
   "metadata": {},
   "source": [
    "#### Data overview"
   ]
  },
  {
   "cell_type": "code",
   "execution_count": 58,
   "metadata": {},
   "outputs": [
    {
     "name": "stdout",
     "output_type": "stream",
     "text": [
      "This datasset have 140 rows and 5 columns\n"
     ]
    }
   ],
   "source": [
    "# Shapes\n",
    "row, col = commune_df.shape\n",
    "print(\"This datasset have\",row,\"rows\",\"and\",col,'columns')"
   ]
  },
  {
   "cell_type": "code",
   "execution_count": 10,
   "metadata": {},
   "outputs": [
    {
     "data": {
      "text/plain": [
       "Commune_en     object\n",
       "Commune_FR     object\n",
       "Commune_Id     object\n",
       "Departement    object\n",
       "ADM1_PCODE     object\n",
       "dtype: object"
      ]
     },
     "execution_count": 10,
     "metadata": {},
     "output_type": "execute_result"
    }
   ],
   "source": [
    "# Data Types\n",
    "commune_df.dtypes"
   ]
  },
  {
   "cell_type": "code",
   "execution_count": 11,
   "metadata": {},
   "outputs": [
    {
     "name": "stdout",
     "output_type": "stream",
     "text": [
      "<class 'pandas.core.frame.DataFrame'>\n",
      "RangeIndex: 140 entries, 0 to 139\n",
      "Data columns (total 5 columns):\n",
      " #   Column       Non-Null Count  Dtype \n",
      "---  ------       --------------  ----- \n",
      " 0   Commune_en   140 non-null    object\n",
      " 1   Commune_FR   140 non-null    object\n",
      " 2   Commune_Id   140 non-null    object\n",
      " 3   Departement  140 non-null    object\n",
      " 4   ADM1_PCODE   140 non-null    object\n",
      "dtypes: object(5)\n",
      "memory usage: 5.6+ KB\n"
     ]
    }
   ],
   "source": [
    "# Data info\n",
    "commune_df.info()"
   ]
  },
  {
   "cell_type": "code",
   "execution_count": 12,
   "metadata": {},
   "outputs": [
    {
     "data": {
      "text/html": [
       "<div>\n",
       "<style scoped>\n",
       "    .dataframe tbody tr th:only-of-type {\n",
       "        vertical-align: middle;\n",
       "    }\n",
       "\n",
       "    .dataframe tbody tr th {\n",
       "        vertical-align: top;\n",
       "    }\n",
       "\n",
       "    .dataframe thead th {\n",
       "        text-align: right;\n",
       "    }\n",
       "</style>\n",
       "<table border=\"1\" class=\"dataframe\">\n",
       "  <thead>\n",
       "    <tr style=\"text-align: right;\">\n",
       "      <th></th>\n",
       "      <th>Commune_en</th>\n",
       "      <th>Commune_FR</th>\n",
       "      <th>Commune_Id</th>\n",
       "      <th>Departement</th>\n",
       "      <th>ADM1_PCODE</th>\n",
       "    </tr>\n",
       "  </thead>\n",
       "  <tbody>\n",
       "    <tr>\n",
       "      <th>count</th>\n",
       "      <td>140</td>\n",
       "      <td>140</td>\n",
       "      <td>140</td>\n",
       "      <td>140</td>\n",
       "      <td>140</td>\n",
       "    </tr>\n",
       "    <tr>\n",
       "      <th>unique</th>\n",
       "      <td>140</td>\n",
       "      <td>140</td>\n",
       "      <td>140</td>\n",
       "      <td>10</td>\n",
       "      <td>10</td>\n",
       "    </tr>\n",
       "    <tr>\n",
       "      <th>top</th>\n",
       "      <td>La Chapelle</td>\n",
       "      <td>Torbeck</td>\n",
       "      <td>HT0311</td>\n",
       "      <td>West</td>\n",
       "      <td>HT01</td>\n",
       "    </tr>\n",
       "    <tr>\n",
       "      <th>freq</th>\n",
       "      <td>1</td>\n",
       "      <td>1</td>\n",
       "      <td>1</td>\n",
       "      <td>20</td>\n",
       "      <td>20</td>\n",
       "    </tr>\n",
       "  </tbody>\n",
       "</table>\n",
       "</div>"
      ],
      "text/plain": [
       "         Commune_en Commune_FR Commune_Id Departement ADM1_PCODE\n",
       "count           140        140        140         140        140\n",
       "unique          140        140        140          10         10\n",
       "top     La Chapelle    Torbeck     HT0311        West       HT01\n",
       "freq              1          1          1          20         20"
      ]
     },
     "execution_count": 12,
     "metadata": {},
     "output_type": "execute_result"
    }
   ],
   "source": [
    "# Describe the dataset\n",
    "commune_df.describe()"
   ]
  },
  {
   "cell_type": "markdown",
   "metadata": {},
   "source": [
    "#### Missing Values"
   ]
  },
  {
   "cell_type": "code",
   "execution_count": 136,
   "metadata": {},
   "outputs": [
    {
     "data": {
      "text/plain": [
       "Commune_en     0\n",
       "Commune_Id     0\n",
       "Departement    0\n",
       "dtype: int64"
      ]
     },
     "execution_count": 136,
     "metadata": {},
     "output_type": "execute_result"
    }
   ],
   "source": [
    "# dealing with missing data\n",
    "commune_df.isna().sum()"
   ]
  },
  {
   "cell_type": "code",
   "execution_count": 134,
   "metadata": {},
   "outputs": [
    {
     "data": {
      "text/plain": [
       "0"
      ]
     },
     "execution_count": 134,
     "metadata": {},
     "output_type": "execute_result"
    }
   ],
   "source": [
    "# Make sure our columns don't have duplicate values.\n",
    "commune_df.duplicated().sum()"
   ]
  },
  {
   "cell_type": "markdown",
   "metadata": {},
   "source": [
    "**Conclusion:** just checking that there's no missing and duplicated Data... All the missing values in the Commune dataset have either been removed or filled."
   ]
  },
  {
   "cell_type": "markdown",
   "metadata": {},
   "source": [
    "#### Clean the data"
   ]
  },
  {
   "cell_type": "code",
   "execution_count": 145,
   "metadata": {},
   "outputs": [],
   "source": [
    "# Drop all columns we will no longer use for this project\n",
    "# commune_df.drop(columns=[\"Commune_FR\" , \"ADM1_PCODE\"], axis='columns', inplace=True)\n",
    "# commune_df.head(10)"
   ]
  },
  {
   "cell_type": "code",
   "execution_count": null,
   "metadata": {},
   "outputs": [],
   "source": []
  },
  {
   "cell_type": "code",
   "execution_count": null,
   "metadata": {},
   "outputs": [],
   "source": []
  },
  {
   "cell_type": "code",
   "execution_count": null,
   "metadata": {},
   "outputs": [],
   "source": []
  },
  {
   "cell_type": "code",
   "execution_count": null,
   "metadata": {},
   "outputs": [],
   "source": []
  },
  {
   "cell_type": "code",
   "execution_count": null,
   "metadata": {},
   "outputs": [],
   "source": []
  },
  {
   "cell_type": "markdown",
   "metadata": {},
   "source": [
    ">## Enroll Dataset"
   ]
  },
  {
   "cell_type": "markdown",
   "metadata": {},
   "source": [
    "#### Import Dataset"
   ]
  },
  {
   "cell_type": "code",
   "execution_count": 82,
   "metadata": {},
   "outputs": [
    {
     "data": {
      "text/html": [
       "<div>\n",
       "<style scoped>\n",
       "    .dataframe tbody tr th:only-of-type {\n",
       "        vertical-align: middle;\n",
       "    }\n",
       "\n",
       "    .dataframe tbody tr th {\n",
       "        vertical-align: top;\n",
       "    }\n",
       "\n",
       "    .dataframe thead th {\n",
       "        text-align: right;\n",
       "    }\n",
       "</style>\n",
       "<table border=\"1\" class=\"dataframe\">\n",
       "  <thead>\n",
       "    <tr style=\"text-align: right;\">\n",
       "      <th></th>\n",
       "      <th>Unnamed: 0</th>\n",
       "      <th>created_at</th>\n",
       "      <th>expiry_date</th>\n",
       "      <th>user_id</th>\n",
       "      <th>course_name</th>\n",
       "      <th>course_id</th>\n",
       "      <th>percentage_completed</th>\n",
       "      <th>completed_at</th>\n",
       "      <th>expired</th>\n",
       "      <th>is_free_trial</th>\n",
       "      <th>completed</th>\n",
       "      <th>started_at</th>\n",
       "      <th>activated_at</th>\n",
       "      <th>updated_at</th>\n",
       "      <th>quest_id</th>\n",
       "    </tr>\n",
       "  </thead>\n",
       "  <tbody>\n",
       "    <tr>\n",
       "      <th>0</th>\n",
       "      <td>0</td>\n",
       "      <td>2020-12-12T06:41:29.844Z</td>\n",
       "      <td>NaN</td>\n",
       "      <td>29816173</td>\n",
       "      <td>Entwodiksyon Nan Syans Done</td>\n",
       "      <td>1047613</td>\n",
       "      <td>0.0</td>\n",
       "      <td>NaN</td>\n",
       "      <td>False</td>\n",
       "      <td>True</td>\n",
       "      <td>False</td>\n",
       "      <td>NaN</td>\n",
       "      <td>NaN</td>\n",
       "      <td>2020-12-12T06:41:29.844Z</td>\n",
       "      <td>NaN</td>\n",
       "    </tr>\n",
       "    <tr>\n",
       "      <th>1</th>\n",
       "      <td>1</td>\n",
       "      <td>2020-12-13T14:41:17.720Z</td>\n",
       "      <td>NaN</td>\n",
       "      <td>35229766</td>\n",
       "      <td>Entwodiksyon Nan Syans Done</td>\n",
       "      <td>1047613</td>\n",
       "      <td>0.0</td>\n",
       "      <td>NaN</td>\n",
       "      <td>False</td>\n",
       "      <td>True</td>\n",
       "      <td>False</td>\n",
       "      <td>NaN</td>\n",
       "      <td>NaN</td>\n",
       "      <td>2020-12-13T14:41:17.720Z</td>\n",
       "      <td>NaN</td>\n",
       "    </tr>\n",
       "    <tr>\n",
       "      <th>2</th>\n",
       "      <td>2</td>\n",
       "      <td>2020-12-15T00:53:06.499Z</td>\n",
       "      <td>NaN</td>\n",
       "      <td>31987560</td>\n",
       "      <td>Entwodiksyon Nan Syans Done</td>\n",
       "      <td>1047613</td>\n",
       "      <td>0.0</td>\n",
       "      <td>NaN</td>\n",
       "      <td>False</td>\n",
       "      <td>True</td>\n",
       "      <td>False</td>\n",
       "      <td>NaN</td>\n",
       "      <td>NaN</td>\n",
       "      <td>2020-12-15T00:53:06.499Z</td>\n",
       "      <td>NaN</td>\n",
       "    </tr>\n",
       "    <tr>\n",
       "      <th>3</th>\n",
       "      <td>3</td>\n",
       "      <td>2020-12-18T18:38:55.683Z</td>\n",
       "      <td>NaN</td>\n",
       "      <td>35616451</td>\n",
       "      <td>Entwodiksyon Nan Syans Done</td>\n",
       "      <td>1047613</td>\n",
       "      <td>0.0</td>\n",
       "      <td>NaN</td>\n",
       "      <td>False</td>\n",
       "      <td>True</td>\n",
       "      <td>False</td>\n",
       "      <td>NaN</td>\n",
       "      <td>NaN</td>\n",
       "      <td>2020-12-18T18:38:55.683Z</td>\n",
       "      <td>NaN</td>\n",
       "    </tr>\n",
       "    <tr>\n",
       "      <th>4</th>\n",
       "      <td>4</td>\n",
       "      <td>2020-12-21T14:45:06.528Z</td>\n",
       "      <td>NaN</td>\n",
       "      <td>35390649</td>\n",
       "      <td>Entwodiksyon Nan Syans Done</td>\n",
       "      <td>1047613</td>\n",
       "      <td>0.0</td>\n",
       "      <td>NaN</td>\n",
       "      <td>False</td>\n",
       "      <td>True</td>\n",
       "      <td>False</td>\n",
       "      <td>NaN</td>\n",
       "      <td>NaN</td>\n",
       "      <td>2020-12-21T14:45:06.528Z</td>\n",
       "      <td>NaN</td>\n",
       "    </tr>\n",
       "  </tbody>\n",
       "</table>\n",
       "</div>"
      ],
      "text/plain": [
       "   Unnamed: 0                created_at expiry_date   user_id  \\\n",
       "0           0  2020-12-12T06:41:29.844Z         NaN  29816173   \n",
       "1           1  2020-12-13T14:41:17.720Z         NaN  35229766   \n",
       "2           2  2020-12-15T00:53:06.499Z         NaN  31987560   \n",
       "3           3  2020-12-18T18:38:55.683Z         NaN  35616451   \n",
       "4           4  2020-12-21T14:45:06.528Z         NaN  35390649   \n",
       "\n",
       "                   course_name  course_id  percentage_completed  completed_at  \\\n",
       "0  Entwodiksyon Nan Syans Done    1047613                   0.0           NaN   \n",
       "1  Entwodiksyon Nan Syans Done    1047613                   0.0           NaN   \n",
       "2  Entwodiksyon Nan Syans Done    1047613                   0.0           NaN   \n",
       "3  Entwodiksyon Nan Syans Done    1047613                   0.0           NaN   \n",
       "4  Entwodiksyon Nan Syans Done    1047613                   0.0           NaN   \n",
       "\n",
       "   expired  is_free_trial  completed started_at activated_at  \\\n",
       "0    False           True      False        NaN          NaN   \n",
       "1    False           True      False        NaN          NaN   \n",
       "2    False           True      False        NaN          NaN   \n",
       "3    False           True      False        NaN          NaN   \n",
       "4    False           True      False        NaN          NaN   \n",
       "\n",
       "                 updated_at quest_id  \n",
       "0  2020-12-12T06:41:29.844Z      NaN  \n",
       "1  2020-12-13T14:41:17.720Z      NaN  \n",
       "2  2020-12-15T00:53:06.499Z      NaN  \n",
       "3  2020-12-18T18:38:55.683Z      NaN  \n",
       "4  2020-12-21T14:45:06.528Z      NaN  "
      ]
     },
     "execution_count": 82,
     "metadata": {},
     "output_type": "execute_result"
    }
   ],
   "source": [
    "# Affiche done enroll yo\n",
    "enroll_df = pd.read_csv(DATA_PATH + \"enroll.csv\")\n",
    "enroll_df.head()"
   ]
  },
  {
   "cell_type": "code",
   "execution_count": 81,
   "metadata": {},
   "outputs": [
    {
     "data": {
      "text/plain": [
       "13     0.930233\n",
       "16     0.697674\n",
       "20     0.534884\n",
       "22     0.953488\n",
       "27     0.906977\n",
       "37     0.833333\n",
       "44     0.813953\n",
       "45     0.619048\n",
       "48     0.511628\n",
       "50     0.860465\n",
       "52     0.953488\n",
       "58     0.523810\n",
       "68     0.953488\n",
       "73     0.534884\n",
       "75     0.906977\n",
       "76     0.883721\n",
       "77     0.953488\n",
       "82     0.744186\n",
       "85     0.953488\n",
       "88     0.674419\n",
       "89     0.790698\n",
       "90     0.906977\n",
       "92     0.906977\n",
       "99     0.813953\n",
       "103    0.604651\n",
       "108    0.604651\n",
       "111    0.883721\n",
       "124    0.883721\n",
       "129    0.697674\n",
       "133    0.767442\n",
       "139    0.604651\n",
       "Name: percentage_completed, dtype: float64"
      ]
     },
     "execution_count": 81,
     "metadata": {},
     "output_type": "execute_result"
    }
   ],
   "source": [
    "show_p = enroll_df[\"percentage_completed\"].loc[(enroll_df[\"percentage_completed\"] >= 0.5)]\n",
    "show_p"
   ]
  },
  {
   "cell_type": "markdown",
   "metadata": {},
   "source": [
    "#### Data overview"
   ]
  },
  {
   "cell_type": "code",
   "execution_count": 147,
   "metadata": {},
   "outputs": [
    {
     "name": "stdout",
     "output_type": "stream",
     "text": [
      "<class 'pandas.core.frame.DataFrame'>\n",
      "RangeIndex: 148 entries, 0 to 147\n",
      "Data columns (total 15 columns):\n",
      " #   Column                Non-Null Count  Dtype  \n",
      "---  ------                --------------  -----  \n",
      " 0   Unnamed: 0            148 non-null    int64  \n",
      " 1   created_at            148 non-null    object \n",
      " 2   expiry_date           60 non-null     object \n",
      " 3   user_id               148 non-null    int64  \n",
      " 4   course_name           148 non-null    object \n",
      " 5   course_id             148 non-null    int64  \n",
      " 6   percentage_completed  148 non-null    float64\n",
      " 7   completed_at          0 non-null      float64\n",
      " 8   expired               148 non-null    bool   \n",
      " 9   is_free_trial         148 non-null    bool   \n",
      " 10  completed             148 non-null    bool   \n",
      " 11  started_at            135 non-null    object \n",
      " 12  activated_at          77 non-null     object \n",
      " 13  updated_at            148 non-null    object \n",
      " 14  quest_id              102 non-null    object \n",
      "dtypes: bool(3), float64(2), int64(3), object(7)\n",
      "memory usage: 14.4+ KB\n"
     ]
    }
   ],
   "source": [
    "enroll_df.info()"
   ]
  },
  {
   "cell_type": "code",
   "execution_count": 150,
   "metadata": {},
   "outputs": [
    {
     "data": {
      "text/html": [
       "<div>\n",
       "<style scoped>\n",
       "    .dataframe tbody tr th:only-of-type {\n",
       "        vertical-align: middle;\n",
       "    }\n",
       "\n",
       "    .dataframe tbody tr th {\n",
       "        vertical-align: top;\n",
       "    }\n",
       "\n",
       "    .dataframe thead th {\n",
       "        text-align: right;\n",
       "    }\n",
       "</style>\n",
       "<table border=\"1\" class=\"dataframe\">\n",
       "  <thead>\n",
       "    <tr style=\"text-align: right;\">\n",
       "      <th></th>\n",
       "      <th>Unnamed: 0</th>\n",
       "      <th>user_id</th>\n",
       "      <th>course_id</th>\n",
       "      <th>percentage_completed</th>\n",
       "      <th>completed_at</th>\n",
       "    </tr>\n",
       "  </thead>\n",
       "  <tbody>\n",
       "    <tr>\n",
       "      <th>count</th>\n",
       "      <td>148.000000</td>\n",
       "      <td>1.480000e+02</td>\n",
       "      <td>148.0</td>\n",
       "      <td>148.000000</td>\n",
       "      <td>0.0</td>\n",
       "    </tr>\n",
       "    <tr>\n",
       "      <th>mean</th>\n",
       "      <td>73.500000</td>\n",
       "      <td>3.982423e+07</td>\n",
       "      <td>1047613.0</td>\n",
       "      <td>0.249925</td>\n",
       "      <td>NaN</td>\n",
       "    </tr>\n",
       "    <tr>\n",
       "      <th>std</th>\n",
       "      <td>42.868014</td>\n",
       "      <td>1.782956e+06</td>\n",
       "      <td>0.0</td>\n",
       "      <td>0.313651</td>\n",
       "      <td>NaN</td>\n",
       "    </tr>\n",
       "    <tr>\n",
       "      <th>min</th>\n",
       "      <td>0.000000</td>\n",
       "      <td>2.981617e+07</td>\n",
       "      <td>1047613.0</td>\n",
       "      <td>0.000000</td>\n",
       "      <td>NaN</td>\n",
       "    </tr>\n",
       "    <tr>\n",
       "      <th>25%</th>\n",
       "      <td>36.750000</td>\n",
       "      <td>3.989802e+07</td>\n",
       "      <td>1047613.0</td>\n",
       "      <td>0.000000</td>\n",
       "      <td>NaN</td>\n",
       "    </tr>\n",
       "    <tr>\n",
       "      <th>50%</th>\n",
       "      <td>73.500000</td>\n",
       "      <td>4.009749e+07</td>\n",
       "      <td>1047613.0</td>\n",
       "      <td>0.023810</td>\n",
       "      <td>NaN</td>\n",
       "    </tr>\n",
       "    <tr>\n",
       "      <th>75%</th>\n",
       "      <td>110.250000</td>\n",
       "      <td>4.062487e+07</td>\n",
       "      <td>1047613.0</td>\n",
       "      <td>0.418605</td>\n",
       "      <td>NaN</td>\n",
       "    </tr>\n",
       "    <tr>\n",
       "      <th>max</th>\n",
       "      <td>147.000000</td>\n",
       "      <td>4.159270e+07</td>\n",
       "      <td>1047613.0</td>\n",
       "      <td>0.953488</td>\n",
       "      <td>NaN</td>\n",
       "    </tr>\n",
       "  </tbody>\n",
       "</table>\n",
       "</div>"
      ],
      "text/plain": [
       "       Unnamed: 0       user_id  course_id  percentage_completed  completed_at\n",
       "count  148.000000  1.480000e+02      148.0            148.000000           0.0\n",
       "mean    73.500000  3.982423e+07  1047613.0              0.249925           NaN\n",
       "std     42.868014  1.782956e+06        0.0              0.313651           NaN\n",
       "min      0.000000  2.981617e+07  1047613.0              0.000000           NaN\n",
       "25%     36.750000  3.989802e+07  1047613.0              0.000000           NaN\n",
       "50%     73.500000  4.009749e+07  1047613.0              0.023810           NaN\n",
       "75%    110.250000  4.062487e+07  1047613.0              0.418605           NaN\n",
       "max    147.000000  4.159270e+07  1047613.0              0.953488           NaN"
      ]
     },
     "execution_count": 150,
     "metadata": {},
     "output_type": "execute_result"
    }
   ],
   "source": [
    "enroll_df.describe()"
   ]
  },
  {
   "cell_type": "markdown",
   "metadata": {},
   "source": [
    "#### Missing Values"
   ]
  },
  {
   "cell_type": "code",
   "execution_count": 158,
   "metadata": {},
   "outputs": [
    {
     "data": {
      "text/plain": [
       "Unnamed: 0                0\n",
       "created_at                0\n",
       "expiry_date              88\n",
       "user_id                   0\n",
       "course_name               0\n",
       "course_id                 0\n",
       "percentage_completed      0\n",
       "completed_at            148\n",
       "expired                   0\n",
       "is_free_trial             0\n",
       "completed                 0\n",
       "started_at               13\n",
       "activated_at             71\n",
       "updated_at                0\n",
       "quest_id                 46\n",
       "dtype: int64"
      ]
     },
     "execution_count": 158,
     "metadata": {},
     "output_type": "execute_result"
    }
   ],
   "source": [
    "enroll_df.isna().sum()"
   ]
  },
  {
   "cell_type": "markdown",
   "metadata": {},
   "source": [
    "#### Clean the data"
   ]
  },
  {
   "cell_type": "code",
   "execution_count": null,
   "metadata": {},
   "outputs": [],
   "source": []
  },
  {
   "cell_type": "code",
   "execution_count": null,
   "metadata": {},
   "outputs": [],
   "source": []
  },
  {
   "cell_type": "code",
   "execution_count": null,
   "metadata": {},
   "outputs": [],
   "source": []
  },
  {
   "cell_type": "markdown",
   "metadata": {},
   "source": [
    ">## Industry Dataset"
   ]
  },
  {
   "cell_type": "code",
   "execution_count": 65,
   "metadata": {},
   "outputs": [
    {
     "data": {
      "text/html": [
       "<div>\n",
       "<style scoped>\n",
       "    .dataframe tbody tr th:only-of-type {\n",
       "        vertical-align: middle;\n",
       "    }\n",
       "\n",
       "    .dataframe tbody tr th {\n",
       "        vertical-align: top;\n",
       "    }\n",
       "\n",
       "    .dataframe thead th {\n",
       "        text-align: right;\n",
       "    }\n",
       "</style>\n",
       "<table border=\"1\" class=\"dataframe\">\n",
       "  <thead>\n",
       "    <tr style=\"text-align: right;\">\n",
       "      <th></th>\n",
       "      <th>Unnamed: 0</th>\n",
       "      <th>key</th>\n",
       "      <th>values</th>\n",
       "      <th>quest_id</th>\n",
       "    </tr>\n",
       "  </thead>\n",
       "  <tbody>\n",
       "    <tr>\n",
       "      <th>0</th>\n",
       "      <td>0</td>\n",
       "      <td>item1</td>\n",
       "      <td>Finance</td>\n",
       "      <td>905ddcf2-ce95-11eb-9a92-7c67a234f601</td>\n",
       "    </tr>\n",
       "    <tr>\n",
       "      <th>1</th>\n",
       "      <td>1</td>\n",
       "      <td>item6</td>\n",
       "      <td>Technology (Software/ Internet)</td>\n",
       "      <td>905e2608-ce95-11eb-809f-7c67a234f601</td>\n",
       "    </tr>\n",
       "    <tr>\n",
       "      <th>2</th>\n",
       "      <td>2</td>\n",
       "      <td>item5</td>\n",
       "      <td>Education</td>\n",
       "      <td>905e2608-ce95-11eb-809f-7c67a234f601</td>\n",
       "    </tr>\n",
       "  </tbody>\n",
       "</table>\n",
       "</div>"
      ],
      "text/plain": [
       "   Unnamed: 0    key                           values  \\\n",
       "0           0  item1                          Finance   \n",
       "1           1  item6  Technology (Software/ Internet)   \n",
       "2           2  item5                        Education   \n",
       "\n",
       "                               quest_id  \n",
       "0  905ddcf2-ce95-11eb-9a92-7c67a234f601  \n",
       "1  905e2608-ce95-11eb-809f-7c67a234f601  \n",
       "2  905e2608-ce95-11eb-809f-7c67a234f601  "
      ]
     },
     "execution_count": 65,
     "metadata": {},
     "output_type": "execute_result"
    }
   ],
   "source": [
    "# Affiche done industry yo\n",
    "industry_df = pd.read_csv(DATA_PATH + \"industry.csv\")\n",
    "industry_df.head(3)"
   ]
  },
  {
   "cell_type": "markdown",
   "metadata": {},
   "source": [
    ">## Ord Dataset"
   ]
  },
  {
   "cell_type": "code",
   "execution_count": 66,
   "metadata": {},
   "outputs": [
    {
     "data": {
      "text/html": [
       "<div>\n",
       "<style scoped>\n",
       "    .dataframe tbody tr th:only-of-type {\n",
       "        vertical-align: middle;\n",
       "    }\n",
       "\n",
       "    .dataframe tbody tr th {\n",
       "        vertical-align: top;\n",
       "    }\n",
       "\n",
       "    .dataframe thead th {\n",
       "        text-align: right;\n",
       "    }\n",
       "</style>\n",
       "<table border=\"1\" class=\"dataframe\">\n",
       "  <thead>\n",
       "    <tr style=\"text-align: right;\">\n",
       "      <th></th>\n",
       "      <th>Unnamed: 0</th>\n",
       "      <th>created_at</th>\n",
       "      <th>user_id</th>\n",
       "      <th>product_name</th>\n",
       "      <th>product_id</th>\n",
       "      <th>amount_dollars</th>\n",
       "      <th>amount_cents</th>\n",
       "      <th>subscription</th>\n",
       "      <th>coupon_code</th>\n",
       "      <th>coupon_id</th>\n",
       "      <th>affiliate_referral_code</th>\n",
       "      <th>status</th>\n",
       "      <th>quest_id</th>\n",
       "    </tr>\n",
       "  </thead>\n",
       "  <tbody>\n",
       "    <tr>\n",
       "      <th>0</th>\n",
       "      <td>0</td>\n",
       "      <td>2021-03-14T15:34:35.014Z</td>\n",
       "      <td>41587952</td>\n",
       "      <td>Entwodiksyon Nan Syans Done</td>\n",
       "      <td>1100636</td>\n",
       "      <td>20</td>\n",
       "      <td>2000</td>\n",
       "      <td>False</td>\n",
       "      <td>NaN</td>\n",
       "      <td>NaN</td>\n",
       "      <td>NaN</td>\n",
       "      <td>Complete</td>\n",
       "      <td>906b3c86-ce95-11eb-b6a7-7c67a234f601</td>\n",
       "    </tr>\n",
       "    <tr>\n",
       "      <th>1</th>\n",
       "      <td>1</td>\n",
       "      <td>2021-03-14T04:20:23.483Z</td>\n",
       "      <td>41564742</td>\n",
       "      <td>Entwodiksyon Nan Syans Done</td>\n",
       "      <td>1100636</td>\n",
       "      <td>20</td>\n",
       "      <td>2000</td>\n",
       "      <td>False</td>\n",
       "      <td>NaN</td>\n",
       "      <td>NaN</td>\n",
       "      <td>NaN</td>\n",
       "      <td>Complete</td>\n",
       "      <td>906636cf-ce95-11eb-8679-7c67a234f601</td>\n",
       "    </tr>\n",
       "    <tr>\n",
       "      <th>2</th>\n",
       "      <td>2</td>\n",
       "      <td>2021-03-12T19:29:22.832Z</td>\n",
       "      <td>41501853</td>\n",
       "      <td>Entwodiksyon Nan Syans Done</td>\n",
       "      <td>1100636</td>\n",
       "      <td>20</td>\n",
       "      <td>2000</td>\n",
       "      <td>False</td>\n",
       "      <td>NaN</td>\n",
       "      <td>NaN</td>\n",
       "      <td>NaN</td>\n",
       "      <td>Complete</td>\n",
       "      <td>906968f5-ce95-11eb-9e1a-7c67a234f601</td>\n",
       "    </tr>\n",
       "  </tbody>\n",
       "</table>\n",
       "</div>"
      ],
      "text/plain": [
       "   Unnamed: 0                created_at   user_id  \\\n",
       "0           0  2021-03-14T15:34:35.014Z  41587952   \n",
       "1           1  2021-03-14T04:20:23.483Z  41564742   \n",
       "2           2  2021-03-12T19:29:22.832Z  41501853   \n",
       "\n",
       "                  product_name  product_id  amount_dollars  amount_cents  \\\n",
       "0  Entwodiksyon Nan Syans Done     1100636              20          2000   \n",
       "1  Entwodiksyon Nan Syans Done     1100636              20          2000   \n",
       "2  Entwodiksyon Nan Syans Done     1100636              20          2000   \n",
       "\n",
       "   subscription coupon_code  coupon_id  affiliate_referral_code    status  \\\n",
       "0         False         NaN        NaN                      NaN  Complete   \n",
       "1         False         NaN        NaN                      NaN  Complete   \n",
       "2         False         NaN        NaN                      NaN  Complete   \n",
       "\n",
       "                               quest_id  \n",
       "0  906b3c86-ce95-11eb-b6a7-7c67a234f601  \n",
       "1  906636cf-ce95-11eb-8679-7c67a234f601  \n",
       "2  906968f5-ce95-11eb-9e1a-7c67a234f601  "
      ]
     },
     "execution_count": 66,
     "metadata": {},
     "output_type": "execute_result"
    }
   ],
   "source": [
    "# Affiche done ord yo\n",
    "ord_df = pd.read_csv(DATA_PATH + \"ord.csv\")\n",
    "ord_df.head(3)"
   ]
  },
  {
   "cell_type": "markdown",
   "metadata": {},
   "source": [
    ">## Quest dataset"
   ]
  },
  {
   "cell_type": "code",
   "execution_count": 67,
   "metadata": {},
   "outputs": [
    {
     "data": {
      "text/html": [
       "<div>\n",
       "<style scoped>\n",
       "    .dataframe tbody tr th:only-of-type {\n",
       "        vertical-align: middle;\n",
       "    }\n",
       "\n",
       "    .dataframe tbody tr th {\n",
       "        vertical-align: top;\n",
       "    }\n",
       "\n",
       "    .dataframe thead th {\n",
       "        text-align: right;\n",
       "    }\n",
       "</style>\n",
       "<table border=\"1\" class=\"dataframe\">\n",
       "  <thead>\n",
       "    <tr style=\"text-align: right;\">\n",
       "      <th></th>\n",
       "      <th>Unnamed: 0</th>\n",
       "      <th>gender</th>\n",
       "      <th>dob</th>\n",
       "      <th>commune</th>\n",
       "      <th>created_at</th>\n",
       "      <th>modified_at</th>\n",
       "      <th>department</th>\n",
       "      <th>education_level</th>\n",
       "      <th>university</th>\n",
       "      <th>study_domain</th>\n",
       "      <th>current_employed</th>\n",
       "      <th>formal_sector_job</th>\n",
       "      <th>have_computer_home</th>\n",
       "      <th>internet_at_home</th>\n",
       "      <th>hear_AA_1</th>\n",
       "      <th>after_AA</th>\n",
       "      <th>quest_id</th>\n",
       "    </tr>\n",
       "  </thead>\n",
       "  <tbody>\n",
       "    <tr>\n",
       "      <th>0</th>\n",
       "      <td>0</td>\n",
       "      <td>male</td>\n",
       "      <td>25/08/1998</td>\n",
       "      <td>ht0111</td>\n",
       "      <td>2021-02-14T23:03:52.768400Z</td>\n",
       "      <td>2021-02-14T23:03:52.768462Z</td>\n",
       "      <td>NaN</td>\n",
       "      <td>unknown</td>\n",
       "      <td>unknown</td>\n",
       "      <td>[]</td>\n",
       "      <td>unknown</td>\n",
       "      <td>unknown</td>\n",
       "      <td>unknown</td>\n",
       "      <td>unknown</td>\n",
       "      <td>unknown</td>\n",
       "      <td>unknown</td>\n",
       "      <td>905dc006-ce95-11eb-b2f9-7c67a234f601</td>\n",
       "    </tr>\n",
       "    <tr>\n",
       "      <th>1</th>\n",
       "      <td>1</td>\n",
       "      <td>female</td>\n",
       "      <td>29/09/1996</td>\n",
       "      <td>ht0111</td>\n",
       "      <td>2021-02-16T16:01:10.861844Z</td>\n",
       "      <td>2021-02-16T16:01:10.861899Z</td>\n",
       "      <td>ht01</td>\n",
       "      <td>Bachelors (bacc +4)</td>\n",
       "      <td>other</td>\n",
       "      <td>['other']</td>\n",
       "      <td>No</td>\n",
       "      <td>unknown</td>\n",
       "      <td>Yes</td>\n",
       "      <td>Yes</td>\n",
       "      <td>Friend</td>\n",
       "      <td>Finding a job/internship</td>\n",
       "      <td>905ddcf2-ce95-11eb-9a92-7c67a234f601</td>\n",
       "    </tr>\n",
       "    <tr>\n",
       "      <th>2</th>\n",
       "      <td>2</td>\n",
       "      <td>male</td>\n",
       "      <td>17/05/1996</td>\n",
       "      <td>ht0111</td>\n",
       "      <td>2021-02-16T16:56:30.579504Z</td>\n",
       "      <td>2021-02-16T16:56:30.579563Z</td>\n",
       "      <td>ht01</td>\n",
       "      <td>Bachelors (bacc +4)</td>\n",
       "      <td>Université d'Etat d'Haïti (UEH)</td>\n",
       "      <td>[]</td>\n",
       "      <td>No</td>\n",
       "      <td>unknown</td>\n",
       "      <td>Yes</td>\n",
       "      <td>Yes</td>\n",
       "      <td>Friend</td>\n",
       "      <td>Improving my data analysis skills</td>\n",
       "      <td>905e2608-ce95-11eb-809f-7c67a234f601</td>\n",
       "    </tr>\n",
       "  </tbody>\n",
       "</table>\n",
       "</div>"
      ],
      "text/plain": [
       "   Unnamed: 0  gender         dob commune                   created_at  \\\n",
       "0           0    male  25/08/1998  ht0111  2021-02-14T23:03:52.768400Z   \n",
       "1           1  female  29/09/1996  ht0111  2021-02-16T16:01:10.861844Z   \n",
       "2           2    male  17/05/1996  ht0111  2021-02-16T16:56:30.579504Z   \n",
       "\n",
       "                   modified_at department      education_level  \\\n",
       "0  2021-02-14T23:03:52.768462Z        NaN              unknown   \n",
       "1  2021-02-16T16:01:10.861899Z       ht01  Bachelors (bacc +4)   \n",
       "2  2021-02-16T16:56:30.579563Z       ht01  Bachelors (bacc +4)   \n",
       "\n",
       "                        university study_domain current_employed  \\\n",
       "0                          unknown           []          unknown   \n",
       "1                            other    ['other']               No   \n",
       "2  Université d'Etat d'Haïti (UEH)           []               No   \n",
       "\n",
       "  formal_sector_job have_computer_home internet_at_home hear_AA_1  \\\n",
       "0           unknown            unknown          unknown   unknown   \n",
       "1           unknown                Yes              Yes    Friend   \n",
       "2           unknown                Yes              Yes    Friend   \n",
       "\n",
       "                            after_AA                              quest_id  \n",
       "0                            unknown  905dc006-ce95-11eb-b2f9-7c67a234f601  \n",
       "1           Finding a job/internship  905ddcf2-ce95-11eb-9a92-7c67a234f601  \n",
       "2  Improving my data analysis skills  905e2608-ce95-11eb-809f-7c67a234f601  "
      ]
     },
     "execution_count": 67,
     "metadata": {},
     "output_type": "execute_result"
    }
   ],
   "source": [
    "# Affiche done quest yo\n",
    "quest_df = pd.read_csv(DATA_PATH + \"quest.csv\")\n",
    "quest_df.head(3)"
   ]
  },
  {
   "cell_type": "markdown",
   "metadata": {},
   "source": [
    ">## Study domain Dataset"
   ]
  },
  {
   "cell_type": "code",
   "execution_count": 68,
   "metadata": {},
   "outputs": [
    {
     "data": {
      "text/html": [
       "<div>\n",
       "<style scoped>\n",
       "    .dataframe tbody tr th:only-of-type {\n",
       "        vertical-align: middle;\n",
       "    }\n",
       "\n",
       "    .dataframe tbody tr th {\n",
       "        vertical-align: top;\n",
       "    }\n",
       "\n",
       "    .dataframe thead th {\n",
       "        text-align: right;\n",
       "    }\n",
       "</style>\n",
       "<table border=\"1\" class=\"dataframe\">\n",
       "  <thead>\n",
       "    <tr style=\"text-align: right;\">\n",
       "      <th></th>\n",
       "      <th>Unnamed: 0</th>\n",
       "      <th>key</th>\n",
       "      <th>values</th>\n",
       "      <th>quest_id</th>\n",
       "    </tr>\n",
       "  </thead>\n",
       "  <tbody>\n",
       "    <tr>\n",
       "      <th>0</th>\n",
       "      <td>0</td>\n",
       "      <td>other</td>\n",
       "      <td>other</td>\n",
       "      <td>905ddcf2-ce95-11eb-9a92-7c67a234f601</td>\n",
       "    </tr>\n",
       "    <tr>\n",
       "      <th>1</th>\n",
       "      <td>1</td>\n",
       "      <td>item1</td>\n",
       "      <td>Computer Science</td>\n",
       "      <td>905e4cf5-ce95-11eb-96a9-7c67a234f601</td>\n",
       "    </tr>\n",
       "    <tr>\n",
       "      <th>2</th>\n",
       "      <td>2</td>\n",
       "      <td>item6</td>\n",
       "      <td>Management</td>\n",
       "      <td>905e4cf5-ce95-11eb-96a9-7c67a234f601</td>\n",
       "    </tr>\n",
       "  </tbody>\n",
       "</table>\n",
       "</div>"
      ],
      "text/plain": [
       "   Unnamed: 0    key            values                              quest_id\n",
       "0           0  other             other  905ddcf2-ce95-11eb-9a92-7c67a234f601\n",
       "1           1  item1  Computer Science  905e4cf5-ce95-11eb-96a9-7c67a234f601\n",
       "2           2  item6        Management  905e4cf5-ce95-11eb-96a9-7c67a234f601"
      ]
     },
     "execution_count": 68,
     "metadata": {},
     "output_type": "execute_result"
    }
   ],
   "source": [
    "# Affiche done Study domain yo\n",
    "studyd_df = pd.read_csv(DATA_PATH + \"study_domain.csv\")\n",
    "studyd_df.head(3)"
   ]
  },
  {
   "cell_type": "markdown",
   "metadata": {},
   "source": [
    ">## Technology Dataset"
   ]
  },
  {
   "cell_type": "code",
   "execution_count": 69,
   "metadata": {},
   "outputs": [
    {
     "data": {
      "text/html": [
       "<div>\n",
       "<style scoped>\n",
       "    .dataframe tbody tr th:only-of-type {\n",
       "        vertical-align: middle;\n",
       "    }\n",
       "\n",
       "    .dataframe tbody tr th {\n",
       "        vertical-align: top;\n",
       "    }\n",
       "\n",
       "    .dataframe thead th {\n",
       "        text-align: right;\n",
       "    }\n",
       "</style>\n",
       "<table border=\"1\" class=\"dataframe\">\n",
       "  <thead>\n",
       "    <tr style=\"text-align: right;\">\n",
       "      <th></th>\n",
       "      <th>Unnamed: 0</th>\n",
       "      <th>key</th>\n",
       "      <th>values</th>\n",
       "      <th>quest_id</th>\n",
       "    </tr>\n",
       "  </thead>\n",
       "  <tbody>\n",
       "    <tr>\n",
       "      <th>0</th>\n",
       "      <td>0</td>\n",
       "      <td>item1</td>\n",
       "      <td>R</td>\n",
       "      <td>905ddcf2-ce95-11eb-9a92-7c67a234f601</td>\n",
       "    </tr>\n",
       "    <tr>\n",
       "      <th>1</th>\n",
       "      <td>1</td>\n",
       "      <td>item11</td>\n",
       "      <td>Excel</td>\n",
       "      <td>905ddcf2-ce95-11eb-9a92-7c67a234f601</td>\n",
       "    </tr>\n",
       "    <tr>\n",
       "      <th>2</th>\n",
       "      <td>2</td>\n",
       "      <td>item2</td>\n",
       "      <td>Python</td>\n",
       "      <td>905e2608-ce95-11eb-809f-7c67a234f601</td>\n",
       "    </tr>\n",
       "  </tbody>\n",
       "</table>\n",
       "</div>"
      ],
      "text/plain": [
       "   Unnamed: 0     key  values                              quest_id\n",
       "0           0   item1       R  905ddcf2-ce95-11eb-9a92-7c67a234f601\n",
       "1           1  item11   Excel  905ddcf2-ce95-11eb-9a92-7c67a234f601\n",
       "2           2   item2  Python  905e2608-ce95-11eb-809f-7c67a234f601"
      ]
     },
     "execution_count": 69,
     "metadata": {},
     "output_type": "execute_result"
    }
   ],
   "source": [
    "# Affiche done technology yo\n",
    "tech_df = pd.read_csv(DATA_PATH + \"technology.csv\")\n",
    "tech_df.head(3)"
   ]
  },
  {
   "cell_type": "markdown",
   "metadata": {},
   "source": [
    ">## Transaction dataset"
   ]
  },
  {
   "cell_type": "code",
   "execution_count": 70,
   "metadata": {},
   "outputs": [
    {
     "data": {
      "text/html": [
       "<div>\n",
       "<style scoped>\n",
       "    .dataframe tbody tr th:only-of-type {\n",
       "        vertical-align: middle;\n",
       "    }\n",
       "\n",
       "    .dataframe tbody tr th {\n",
       "        vertical-align: top;\n",
       "    }\n",
       "\n",
       "    .dataframe thead th {\n",
       "        text-align: right;\n",
       "    }\n",
       "</style>\n",
       "<table border=\"1\" class=\"dataframe\">\n",
       "  <thead>\n",
       "    <tr style=\"text-align: right;\">\n",
       "      <th></th>\n",
       "      <th>Unnamed: 0</th>\n",
       "      <th>created_at</th>\n",
       "      <th>modified_at</th>\n",
       "      <th>user_id</th>\n",
       "      <th>course_id</th>\n",
       "      <th>transaction_id</th>\n",
       "    </tr>\n",
       "  </thead>\n",
       "  <tbody>\n",
       "    <tr>\n",
       "      <th>0</th>\n",
       "      <td>0</td>\n",
       "      <td>2021-03-08T05:08:50.832Z</td>\n",
       "      <td>2021-03-08T05:08:50.832Z</td>\n",
       "      <td>40976440</td>\n",
       "      <td>1047613</td>\n",
       "      <td>4641281952</td>\n",
       "    </tr>\n",
       "    <tr>\n",
       "      <th>1</th>\n",
       "      <td>1</td>\n",
       "      <td>2021-03-08T17:26:35.841Z</td>\n",
       "      <td>2021-03-08T17:26:35.841Z</td>\n",
       "      <td>41179271</td>\n",
       "      <td>1047613</td>\n",
       "      <td>4644270160</td>\n",
       "    </tr>\n",
       "    <tr>\n",
       "      <th>2</th>\n",
       "      <td>2</td>\n",
       "      <td>2021-03-08T18:52:09.147Z</td>\n",
       "      <td>2021-03-08T18:52:09.147Z</td>\n",
       "      <td>40973512</td>\n",
       "      <td>1047613</td>\n",
       "      <td>4645070622</td>\n",
       "    </tr>\n",
       "  </tbody>\n",
       "</table>\n",
       "</div>"
      ],
      "text/plain": [
       "   Unnamed: 0                created_at               modified_at   user_id  \\\n",
       "0           0  2021-03-08T05:08:50.832Z  2021-03-08T05:08:50.832Z  40976440   \n",
       "1           1  2021-03-08T17:26:35.841Z  2021-03-08T17:26:35.841Z  41179271   \n",
       "2           2  2021-03-08T18:52:09.147Z  2021-03-08T18:52:09.147Z  40973512   \n",
       "\n",
       "   course_id  transaction_id  \n",
       "0    1047613      4641281952  \n",
       "1    1047613      4644270160  \n",
       "2    1047613      4645070622  "
      ]
     },
     "execution_count": 70,
     "metadata": {},
     "output_type": "execute_result"
    }
   ],
   "source": [
    "# Affiche done industry yo\n",
    "transaction_df = pd.read_csv(DATA_PATH + \"transaction.csv\")\n",
    "transaction_df.head(3)"
   ]
  },
  {
   "cell_type": "code",
   "execution_count": null,
   "metadata": {},
   "outputs": [],
   "source": []
  }
 ],
 "metadata": {
  "interpreter": {
   "hash": "e4e9227d832dc9e17768780106ce3b9f84d4a17fc850b44b5e5a05f23459cc7d"
  },
  "kernelspec": {
   "display_name": "Python 3",
   "language": "python",
   "name": "python3"
  },
  "language_info": {
   "codemirror_mode": {
    "name": "ipython",
    "version": 3
   },
   "file_extension": ".py",
   "mimetype": "text/x-python",
   "name": "python",
   "nbconvert_exporter": "python",
   "pygments_lexer": "ipython3",
   "version": "3.8.5"
  },
  "metadata": {
   "interpreter": {
    "hash": "aee8b7b246df8f9039afb4144a1f6fd8d2ca17a180786b69acc140d282b71a49"
   }
  }
 },
 "nbformat": 4,
 "nbformat_minor": 4
}
