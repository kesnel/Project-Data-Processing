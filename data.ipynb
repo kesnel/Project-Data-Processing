{
 "cells": [
  {
   "cell_type": "markdown",
   "metadata": {},
   "source": [
    "#### Install all requirements for the project"
   ]
  },
  {
   "cell_type": "code",
   "execution_count": 194,
   "metadata": {},
   "outputs": [],
   "source": [
    "# !pip install numpy\n",
    "# !pip install pandas\n",
    "# !pip install matplotlib\n",
    "# !pip install seaborn"
   ]
  },
  {
   "cell_type": "markdown",
   "metadata": {},
   "source": [
    "#### Importing Libraries"
   ]
  },
  {
   "cell_type": "code",
   "execution_count": 449,
   "metadata": {},
   "outputs": [],
   "source": [
    "import numpy as np\n",
    "import pandas as pd\n",
    "import matplotlib.pyplot as plt\n",
    "import seaborn as sns\n",
    "\n",
    "# Path\n",
    "DOCS_PATH = 'docs/'\n",
    "DATA_PATH = 'data/'"
   ]
  },
  {
   "cell_type": "markdown",
   "metadata": {},
   "source": [
    "#### Importing our Datasets"
   ]
  },
  {
   "cell_type": "code",
   "execution_count": 196,
   "metadata": {},
   "outputs": [],
   "source": [
    "commune_df = pd.read_excel((DATA_PATH + \"commune.xlsx\"))\n",
    "enroll_df = pd.read_csv(DATA_PATH + \"enroll.csv\")\n",
    "industry_df = pd.read_csv(DATA_PATH + \"industry.csv\")\n",
    "ord_df = pd.read_csv(DATA_PATH + \"ord.csv\")\n",
    "quest_df = pd.read_csv(DATA_PATH + \"quest.csv\")\n",
    "studyd_df = pd.read_csv(DATA_PATH + \"study_domain.csv\")\n",
    "tech_df = pd.read_csv(DATA_PATH + \"technology.csv\")\n",
    "transaction_df = pd.read_csv(DATA_PATH + \"transaction.csv\")"
   ]
  },
  {
   "cell_type": "markdown",
   "metadata": {},
   "source": [
    "# Ayiti Analytics Data Processing Bootcamp\n",
    "  Ayiti Analytics Data wants to expand its training centers throughout all the communes of the country. Your role as a data analyst is to help them realize this dream.\n",
    "\n",
    "Its objective is to know which three communes of the country will be the most likely to expand its training centers.\n",
    "\n",
    "Knowing that each cohort must have 30 students\n",
    " \n",
    "* How many applications must be made to select 25% women for each on average\n",
    "\n",
    "* What are the most effective communication channels (Alumni, Facebook, WhatsApp, Friend ...) that will allow a student to be susceptible to selection\n",
    " \n",
    "* What is the average number of university students who should participate in this program\n",
    "* What will be the average number of applications per week that we could have\n",
    "* How many weeks should we extend the application process to select 60 students per commune?\n",
    "* If we were to do all the bootcamp online, who would be the best communes and how many applications would we need to select 30 student and what percentage of students would have a laptop, an internet connection, both at the same time\n",
    "* What are the most effective communication channels (Alumni, Facebook, WhatsApp, Friend ...) that will allow a women to be susceptible to selection\n",
    "\n",
    "### NB \n",
    "Use the same framework of the BA project to complete this project"
   ]
  },
  {
   "cell_type": "markdown",
   "metadata": {},
   "source": [
    ">## Commune dataset"
   ]
  },
  {
   "cell_type": "markdown",
   "metadata": {},
   "source": [
    "#### Display the Dataframe"
   ]
  },
  {
   "cell_type": "code",
   "execution_count": 446,
   "metadata": {},
   "outputs": [
    {
     "data": {
      "text/html": [
       "<div>\n",
       "<style scoped>\n",
       "    .dataframe tbody tr th:only-of-type {\n",
       "        vertical-align: middle;\n",
       "    }\n",
       "\n",
       "    .dataframe tbody tr th {\n",
       "        vertical-align: top;\n",
       "    }\n",
       "\n",
       "    .dataframe thead th {\n",
       "        text-align: right;\n",
       "    }\n",
       "</style>\n",
       "<table border=\"1\" class=\"dataframe\">\n",
       "  <thead>\n",
       "    <tr style=\"text-align: right;\">\n",
       "      <th></th>\n",
       "      <th>Commune_en</th>\n",
       "      <th>Commune_FR</th>\n",
       "      <th>Commune_Id</th>\n",
       "      <th>Departement</th>\n",
       "      <th>ADM1_PCODE</th>\n",
       "    </tr>\n",
       "  </thead>\n",
       "  <tbody>\n",
       "    <tr>\n",
       "      <th>0</th>\n",
       "      <td>Abricots</td>\n",
       "      <td>Abricots</td>\n",
       "      <td>HT0812</td>\n",
       "      <td>Grande'Anse</td>\n",
       "      <td>HT08</td>\n",
       "    </tr>\n",
       "    <tr>\n",
       "      <th>1</th>\n",
       "      <td>Acul du Nord</td>\n",
       "      <td>Acul du Nord</td>\n",
       "      <td>HT0321</td>\n",
       "      <td>North</td>\n",
       "      <td>HT03</td>\n",
       "    </tr>\n",
       "    <tr>\n",
       "      <th>2</th>\n",
       "      <td>Anse-a-Foleur</td>\n",
       "      <td>Anse-à-Foleur</td>\n",
       "      <td>HT0922</td>\n",
       "      <td>North-West</td>\n",
       "      <td>HT09</td>\n",
       "    </tr>\n",
       "    <tr>\n",
       "      <th>3</th>\n",
       "      <td>Anse-a-Pitre</td>\n",
       "      <td>Anse-à-Pître</td>\n",
       "      <td>HT0234</td>\n",
       "      <td>South-East</td>\n",
       "      <td>HT02</td>\n",
       "    </tr>\n",
       "    <tr>\n",
       "      <th>4</th>\n",
       "      <td>Anse-a-Veau</td>\n",
       "      <td>Anse-à-Veau</td>\n",
       "      <td>HT1021</td>\n",
       "      <td>Nippes</td>\n",
       "      <td>HT10</td>\n",
       "    </tr>\n",
       "  </tbody>\n",
       "</table>\n",
       "</div>"
      ],
      "text/plain": [
       "      Commune_en     Commune_FR Commune_Id  Departement ADM1_PCODE\n",
       "0       Abricots       Abricots     HT0812  Grande'Anse       HT08\n",
       "1   Acul du Nord   Acul du Nord     HT0321        North       HT03\n",
       "2  Anse-a-Foleur  Anse-à-Foleur     HT0922   North-West       HT09\n",
       "3   Anse-a-Pitre   Anse-à-Pître     HT0234   South-East       HT02\n",
       "4    Anse-a-Veau    Anse-à-Veau     HT1021       Nippes       HT10"
      ]
     },
     "execution_count": 446,
     "metadata": {},
     "output_type": "execute_result"
    }
   ],
   "source": [
    "commune_df.head(5)"
   ]
  },
  {
   "cell_type": "markdown",
   "metadata": {},
   "source": [
    "#### Data overview"
   ]
  },
  {
   "cell_type": "code",
   "execution_count": 198,
   "metadata": {},
   "outputs": [
    {
     "name": "stdout",
     "output_type": "stream",
     "text": [
      "This datasset have 140 rows and 5 columns\n"
     ]
    }
   ],
   "source": [
    "# Check the dimensions of the DataFrame\n",
    "row, col = commune_df.shape\n",
    "print(\"This datasset have\",row,\"rows\",\"and\",col,'columns')"
   ]
  },
  {
   "cell_type": "code",
   "execution_count": 199,
   "metadata": {},
   "outputs": [
    {
     "data": {
      "text/plain": [
       "Commune_en     object\n",
       "Commune_FR     object\n",
       "Commune_Id     object\n",
       "Departement    object\n",
       "ADM1_PCODE     object\n",
       "dtype: object"
      ]
     },
     "execution_count": 199,
     "metadata": {},
     "output_type": "execute_result"
    }
   ],
   "source": [
    "# Data Types\n",
    "commune_df.dtypes"
   ]
  },
  {
   "cell_type": "code",
   "execution_count": 200,
   "metadata": {},
   "outputs": [
    {
     "name": "stdout",
     "output_type": "stream",
     "text": [
      "<class 'pandas.core.frame.DataFrame'>\n",
      "RangeIndex: 140 entries, 0 to 139\n",
      "Data columns (total 5 columns):\n",
      " #   Column       Non-Null Count  Dtype \n",
      "---  ------       --------------  ----- \n",
      " 0   Commune_en   140 non-null    object\n",
      " 1   Commune_FR   140 non-null    object\n",
      " 2   Commune_Id   140 non-null    object\n",
      " 3   Departement  140 non-null    object\n",
      " 4   ADM1_PCODE   140 non-null    object\n",
      "dtypes: object(5)\n",
      "memory usage: 5.6+ KB\n"
     ]
    }
   ],
   "source": [
    "# Data info\n",
    "commune_df.info()"
   ]
  },
  {
   "cell_type": "code",
   "execution_count": 201,
   "metadata": {},
   "outputs": [
    {
     "data": {
      "text/html": [
       "<div>\n",
       "<style scoped>\n",
       "    .dataframe tbody tr th:only-of-type {\n",
       "        vertical-align: middle;\n",
       "    }\n",
       "\n",
       "    .dataframe tbody tr th {\n",
       "        vertical-align: top;\n",
       "    }\n",
       "\n",
       "    .dataframe thead th {\n",
       "        text-align: right;\n",
       "    }\n",
       "</style>\n",
       "<table border=\"1\" class=\"dataframe\">\n",
       "  <thead>\n",
       "    <tr style=\"text-align: right;\">\n",
       "      <th></th>\n",
       "      <th>Commune_en</th>\n",
       "      <th>Commune_FR</th>\n",
       "      <th>Commune_Id</th>\n",
       "      <th>Departement</th>\n",
       "      <th>ADM1_PCODE</th>\n",
       "    </tr>\n",
       "  </thead>\n",
       "  <tbody>\n",
       "    <tr>\n",
       "      <th>count</th>\n",
       "      <td>140</td>\n",
       "      <td>140</td>\n",
       "      <td>140</td>\n",
       "      <td>140</td>\n",
       "      <td>140</td>\n",
       "    </tr>\n",
       "    <tr>\n",
       "      <th>unique</th>\n",
       "      <td>140</td>\n",
       "      <td>140</td>\n",
       "      <td>140</td>\n",
       "      <td>10</td>\n",
       "      <td>10</td>\n",
       "    </tr>\n",
       "    <tr>\n",
       "      <th>top</th>\n",
       "      <td>Caracol</td>\n",
       "      <td>Saut d'Eau</td>\n",
       "      <td>HT0742</td>\n",
       "      <td>West</td>\n",
       "      <td>HT01</td>\n",
       "    </tr>\n",
       "    <tr>\n",
       "      <th>freq</th>\n",
       "      <td>1</td>\n",
       "      <td>1</td>\n",
       "      <td>1</td>\n",
       "      <td>20</td>\n",
       "      <td>20</td>\n",
       "    </tr>\n",
       "  </tbody>\n",
       "</table>\n",
       "</div>"
      ],
      "text/plain": [
       "       Commune_en  Commune_FR Commune_Id Departement ADM1_PCODE\n",
       "count         140         140        140         140        140\n",
       "unique        140         140        140          10         10\n",
       "top       Caracol  Saut d'Eau     HT0742        West       HT01\n",
       "freq            1           1          1          20         20"
      ]
     },
     "execution_count": 201,
     "metadata": {},
     "output_type": "execute_result"
    }
   ],
   "source": [
    "# Describe the dataset\n",
    "commune_df.describe()"
   ]
  },
  {
   "cell_type": "markdown",
   "metadata": {},
   "source": [
    "#### Data cleaning"
   ]
  },
  {
   "cell_type": "code",
   "execution_count": 202,
   "metadata": {},
   "outputs": [
    {
     "data": {
      "text/plain": [
       "0"
      ]
     },
     "execution_count": 202,
     "metadata": {},
     "output_type": "execute_result"
    }
   ],
   "source": [
    "# Make sure our columns don't have duplicate values.\n",
    "commune_df.duplicated().sum()"
   ]
  },
  {
   "cell_type": "code",
   "execution_count": 203,
   "metadata": {},
   "outputs": [
    {
     "data": {
      "text/html": [
       "<div>\n",
       "<style scoped>\n",
       "    .dataframe tbody tr th:only-of-type {\n",
       "        vertical-align: middle;\n",
       "    }\n",
       "\n",
       "    .dataframe tbody tr th {\n",
       "        vertical-align: top;\n",
       "    }\n",
       "\n",
       "    .dataframe thead th {\n",
       "        text-align: right;\n",
       "    }\n",
       "</style>\n",
       "<table border=\"1\" class=\"dataframe\">\n",
       "  <thead>\n",
       "    <tr style=\"text-align: right;\">\n",
       "      <th></th>\n",
       "      <th>Commune_en</th>\n",
       "      <th>Commune_FR</th>\n",
       "      <th>Commune_Id</th>\n",
       "      <th>Departement</th>\n",
       "      <th>ADM1_PCODE</th>\n",
       "    </tr>\n",
       "  </thead>\n",
       "  <tbody>\n",
       "    <tr>\n",
       "      <th>count</th>\n",
       "      <td>140</td>\n",
       "      <td>140</td>\n",
       "      <td>140</td>\n",
       "      <td>140</td>\n",
       "      <td>140</td>\n",
       "    </tr>\n",
       "    <tr>\n",
       "      <th>unique</th>\n",
       "      <td>140</td>\n",
       "      <td>140</td>\n",
       "      <td>140</td>\n",
       "      <td>10</td>\n",
       "      <td>10</td>\n",
       "    </tr>\n",
       "    <tr>\n",
       "      <th>top</th>\n",
       "      <td>Caracol</td>\n",
       "      <td>Saut d'Eau</td>\n",
       "      <td>HT0742</td>\n",
       "      <td>West</td>\n",
       "      <td>HT01</td>\n",
       "    </tr>\n",
       "    <tr>\n",
       "      <th>freq</th>\n",
       "      <td>1</td>\n",
       "      <td>1</td>\n",
       "      <td>1</td>\n",
       "      <td>20</td>\n",
       "      <td>20</td>\n",
       "    </tr>\n",
       "  </tbody>\n",
       "</table>\n",
       "</div>"
      ],
      "text/plain": [
       "       Commune_en  Commune_FR Commune_Id Departement ADM1_PCODE\n",
       "count         140         140        140         140        140\n",
       "unique        140         140        140          10         10\n",
       "top       Caracol  Saut d'Eau     HT0742        West       HT01\n",
       "freq            1           1          1          20         20"
      ]
     },
     "execution_count": 203,
     "metadata": {},
     "output_type": "execute_result"
    }
   ],
   "source": [
    "# Describe the dataset\n",
    "commune_df.describe()"
   ]
  },
  {
   "cell_type": "code",
   "execution_count": 204,
   "metadata": {},
   "outputs": [
    {
     "data": {
      "text/plain": [
       "Commune_en     0\n",
       "Commune_FR     0\n",
       "Commune_Id     0\n",
       "Departement    0\n",
       "ADM1_PCODE     0\n",
       "dtype: int64"
      ]
     },
     "execution_count": 204,
     "metadata": {},
     "output_type": "execute_result"
    }
   ],
   "source": [
    "# dealing with missing data\n",
    "commune_df.isna().sum()"
   ]
  },
  {
   "cell_type": "code",
   "execution_count": 205,
   "metadata": {},
   "outputs": [],
   "source": [
    "# Drop all columns we will not use in this dataset\n",
    "to_drop = []\n",
    "clean_commune_df = commune_df.drop(['Commune_FR'], axis = 1)"
   ]
  },
  {
   "cell_type": "code",
   "execution_count": 206,
   "metadata": {},
   "outputs": [
    {
     "data": {
      "text/html": [
       "<div>\n",
       "<style scoped>\n",
       "    .dataframe tbody tr th:only-of-type {\n",
       "        vertical-align: middle;\n",
       "    }\n",
       "\n",
       "    .dataframe tbody tr th {\n",
       "        vertical-align: top;\n",
       "    }\n",
       "\n",
       "    .dataframe thead th {\n",
       "        text-align: right;\n",
       "    }\n",
       "</style>\n",
       "<table border=\"1\" class=\"dataframe\">\n",
       "  <thead>\n",
       "    <tr style=\"text-align: right;\">\n",
       "      <th></th>\n",
       "      <th>Commune_en</th>\n",
       "      <th>Commune_Id</th>\n",
       "      <th>Departement</th>\n",
       "      <th>ADM1_PCODE</th>\n",
       "    </tr>\n",
       "  </thead>\n",
       "  <tbody>\n",
       "    <tr>\n",
       "      <th>0</th>\n",
       "      <td>Abricots</td>\n",
       "      <td>HT0812</td>\n",
       "      <td>Grande'Anse</td>\n",
       "      <td>HT08</td>\n",
       "    </tr>\n",
       "    <tr>\n",
       "      <th>1</th>\n",
       "      <td>Acul du Nord</td>\n",
       "      <td>HT0321</td>\n",
       "      <td>North</td>\n",
       "      <td>HT03</td>\n",
       "    </tr>\n",
       "    <tr>\n",
       "      <th>2</th>\n",
       "      <td>Anse-a-Foleur</td>\n",
       "      <td>HT0922</td>\n",
       "      <td>North-West</td>\n",
       "      <td>HT09</td>\n",
       "    </tr>\n",
       "  </tbody>\n",
       "</table>\n",
       "</div>"
      ],
      "text/plain": [
       "      Commune_en Commune_Id  Departement ADM1_PCODE\n",
       "0       Abricots     HT0812  Grande'Anse       HT08\n",
       "1   Acul du Nord     HT0321        North       HT03\n",
       "2  Anse-a-Foleur     HT0922   North-West       HT09"
      ]
     },
     "execution_count": 206,
     "metadata": {},
     "output_type": "execute_result"
    }
   ],
   "source": [
    "# display ou new dataframe\n",
    "clean_commune_df.head(3)"
   ]
  },
  {
   "cell_type": "markdown",
   "metadata": {},
   "source": [
    "**Conclusion:** just checking that there's no missing and duplicated values in the commune dataset..."
   ]
  },
  {
   "cell_type": "markdown",
   "metadata": {},
   "source": [
    ">## Enroll Dataset"
   ]
  },
  {
   "cell_type": "markdown",
   "metadata": {},
   "source": [
    "#### Import Dataset"
   ]
  },
  {
   "cell_type": "code",
   "execution_count": 209,
   "metadata": {},
   "outputs": [
    {
     "data": {
      "text/html": [
       "<div>\n",
       "<style scoped>\n",
       "    .dataframe tbody tr th:only-of-type {\n",
       "        vertical-align: middle;\n",
       "    }\n",
       "\n",
       "    .dataframe tbody tr th {\n",
       "        vertical-align: top;\n",
       "    }\n",
       "\n",
       "    .dataframe thead th {\n",
       "        text-align: right;\n",
       "    }\n",
       "</style>\n",
       "<table border=\"1\" class=\"dataframe\">\n",
       "  <thead>\n",
       "    <tr style=\"text-align: right;\">\n",
       "      <th></th>\n",
       "      <th>Unnamed: 0</th>\n",
       "      <th>created_at</th>\n",
       "      <th>expiry_date</th>\n",
       "      <th>user_id</th>\n",
       "      <th>course_name</th>\n",
       "      <th>course_id</th>\n",
       "      <th>percentage_completed</th>\n",
       "      <th>completed_at</th>\n",
       "      <th>expired</th>\n",
       "      <th>is_free_trial</th>\n",
       "      <th>completed</th>\n",
       "      <th>started_at</th>\n",
       "      <th>activated_at</th>\n",
       "      <th>updated_at</th>\n",
       "      <th>quest_id</th>\n",
       "    </tr>\n",
       "  </thead>\n",
       "  <tbody>\n",
       "    <tr>\n",
       "      <th>0</th>\n",
       "      <td>0</td>\n",
       "      <td>2020-12-12T06:41:29.844Z</td>\n",
       "      <td>NaN</td>\n",
       "      <td>29816173</td>\n",
       "      <td>Entwodiksyon Nan Syans Done</td>\n",
       "      <td>1047613</td>\n",
       "      <td>0.0</td>\n",
       "      <td>NaN</td>\n",
       "      <td>False</td>\n",
       "      <td>True</td>\n",
       "      <td>False</td>\n",
       "      <td>NaN</td>\n",
       "      <td>NaN</td>\n",
       "      <td>2020-12-12T06:41:29.844Z</td>\n",
       "      <td>NaN</td>\n",
       "    </tr>\n",
       "    <tr>\n",
       "      <th>1</th>\n",
       "      <td>1</td>\n",
       "      <td>2020-12-13T14:41:17.720Z</td>\n",
       "      <td>NaN</td>\n",
       "      <td>35229766</td>\n",
       "      <td>Entwodiksyon Nan Syans Done</td>\n",
       "      <td>1047613</td>\n",
       "      <td>0.0</td>\n",
       "      <td>NaN</td>\n",
       "      <td>False</td>\n",
       "      <td>True</td>\n",
       "      <td>False</td>\n",
       "      <td>NaN</td>\n",
       "      <td>NaN</td>\n",
       "      <td>2020-12-13T14:41:17.720Z</td>\n",
       "      <td>NaN</td>\n",
       "    </tr>\n",
       "  </tbody>\n",
       "</table>\n",
       "</div>"
      ],
      "text/plain": [
       "   Unnamed: 0                created_at expiry_date   user_id  \\\n",
       "0           0  2020-12-12T06:41:29.844Z         NaN  29816173   \n",
       "1           1  2020-12-13T14:41:17.720Z         NaN  35229766   \n",
       "\n",
       "                   course_name  course_id  percentage_completed  completed_at  \\\n",
       "0  Entwodiksyon Nan Syans Done    1047613                   0.0           NaN   \n",
       "1  Entwodiksyon Nan Syans Done    1047613                   0.0           NaN   \n",
       "\n",
       "   expired  is_free_trial  completed started_at activated_at  \\\n",
       "0    False           True      False        NaN          NaN   \n",
       "1    False           True      False        NaN          NaN   \n",
       "\n",
       "                 updated_at quest_id  \n",
       "0  2020-12-12T06:41:29.844Z      NaN  \n",
       "1  2020-12-13T14:41:17.720Z      NaN  "
      ]
     },
     "execution_count": 209,
     "metadata": {},
     "output_type": "execute_result"
    }
   ],
   "source": [
    "# Affiche done enroll yo\n",
    "enroll_df.head(2)"
   ]
  },
  {
   "cell_type": "markdown",
   "metadata": {},
   "source": [
    "#### Data overview"
   ]
  },
  {
   "cell_type": "code",
   "execution_count": 210,
   "metadata": {},
   "outputs": [
    {
     "data": {
      "text/plain": [
       "(148, 15)"
      ]
     },
     "execution_count": 210,
     "metadata": {},
     "output_type": "execute_result"
    }
   ],
   "source": [
    "enroll_df.shape"
   ]
  },
  {
   "cell_type": "markdown",
   "metadata": {},
   "source": [
    "#### Data cleaning"
   ]
  },
  {
   "cell_type": "code",
   "execution_count": 211,
   "metadata": {},
   "outputs": [
    {
     "name": "stdout",
     "output_type": "stream",
     "text": [
      "0 Duplicated rows\n"
     ]
    }
   ],
   "source": [
    "# Finding duplicated rows\n",
    "print(enroll_df.duplicated().sum(),\"Duplicated rows\")"
   ]
  },
  {
   "cell_type": "code",
   "execution_count": 212,
   "metadata": {},
   "outputs": [
    {
     "data": {
      "text/plain": [
       "Unnamed: 0                0\n",
       "created_at                0\n",
       "expiry_date              88\n",
       "user_id                   0\n",
       "course_name               0\n",
       "course_id                 0\n",
       "percentage_completed      0\n",
       "completed_at            148\n",
       "expired                   0\n",
       "is_free_trial             0\n",
       "completed                 0\n",
       "started_at               13\n",
       "activated_at             71\n",
       "updated_at                0\n",
       "quest_id                 46\n",
       "dtype: int64"
      ]
     },
     "execution_count": 212,
     "metadata": {},
     "output_type": "execute_result"
    }
   ],
   "source": [
    "# Count how many missing values we have in this dataset\n",
    "enroll_df.isnull().sum()"
   ]
  },
  {
   "cell_type": "code",
   "execution_count": 213,
   "metadata": {},
   "outputs": [
    {
     "name": "stdout",
     "output_type": "stream",
     "text": [
      "We have 366 missing values in this dataset\n"
     ]
    }
   ],
   "source": [
    "# Total missing values we have\n",
    "print(\"We have\", enroll_df.isnull().sum().sum(), \"missing values in this dataset\")"
   ]
  },
  {
   "cell_type": "code",
   "execution_count": 214,
   "metadata": {},
   "outputs": [
    {
     "name": "stdout",
     "output_type": "stream",
     "text": [
      "We now have 0 missing value\n"
     ]
    }
   ],
   "source": [
    "# Dealing with our null values\n",
    "clean_enroll_df = enroll_df.fillna(value = 0)\n",
    "print(\"We now have\", clean_enroll_df.isnull().sum().sum(), \"missing value\")"
   ]
  },
  {
   "cell_type": "code",
   "execution_count": 216,
   "metadata": {},
   "outputs": [
    {
     "data": {
      "text/html": [
       "<div>\n",
       "<style scoped>\n",
       "    .dataframe tbody tr th:only-of-type {\n",
       "        vertical-align: middle;\n",
       "    }\n",
       "\n",
       "    .dataframe tbody tr th {\n",
       "        vertical-align: top;\n",
       "    }\n",
       "\n",
       "    .dataframe thead th {\n",
       "        text-align: right;\n",
       "    }\n",
       "</style>\n",
       "<table border=\"1\" class=\"dataframe\">\n",
       "  <thead>\n",
       "    <tr style=\"text-align: right;\">\n",
       "      <th></th>\n",
       "      <th>Unnamed: 0</th>\n",
       "      <th>created_at</th>\n",
       "      <th>expiry_date</th>\n",
       "      <th>user_id</th>\n",
       "      <th>course_name</th>\n",
       "      <th>course_id</th>\n",
       "      <th>percentage_completed</th>\n",
       "      <th>completed_at</th>\n",
       "      <th>expired</th>\n",
       "      <th>is_free_trial</th>\n",
       "      <th>completed</th>\n",
       "      <th>started_at</th>\n",
       "      <th>activated_at</th>\n",
       "      <th>updated_at</th>\n",
       "      <th>quest_id</th>\n",
       "    </tr>\n",
       "  </thead>\n",
       "  <tbody>\n",
       "    <tr>\n",
       "      <th>0</th>\n",
       "      <td>0</td>\n",
       "      <td>2020-12-12T06:41:29.844Z</td>\n",
       "      <td>0</td>\n",
       "      <td>29816173</td>\n",
       "      <td>Entwodiksyon Nan Syans Done</td>\n",
       "      <td>1047613</td>\n",
       "      <td>0.0</td>\n",
       "      <td>0.0</td>\n",
       "      <td>False</td>\n",
       "      <td>True</td>\n",
       "      <td>False</td>\n",
       "      <td>0</td>\n",
       "      <td>0</td>\n",
       "      <td>2020-12-12T06:41:29.844Z</td>\n",
       "      <td>0</td>\n",
       "    </tr>\n",
       "    <tr>\n",
       "      <th>1</th>\n",
       "      <td>1</td>\n",
       "      <td>2020-12-13T14:41:17.720Z</td>\n",
       "      <td>0</td>\n",
       "      <td>35229766</td>\n",
       "      <td>Entwodiksyon Nan Syans Done</td>\n",
       "      <td>1047613</td>\n",
       "      <td>0.0</td>\n",
       "      <td>0.0</td>\n",
       "      <td>False</td>\n",
       "      <td>True</td>\n",
       "      <td>False</td>\n",
       "      <td>0</td>\n",
       "      <td>0</td>\n",
       "      <td>2020-12-13T14:41:17.720Z</td>\n",
       "      <td>0</td>\n",
       "    </tr>\n",
       "  </tbody>\n",
       "</table>\n",
       "</div>"
      ],
      "text/plain": [
       "   Unnamed: 0                created_at expiry_date   user_id  \\\n",
       "0           0  2020-12-12T06:41:29.844Z           0  29816173   \n",
       "1           1  2020-12-13T14:41:17.720Z           0  35229766   \n",
       "\n",
       "                   course_name  course_id  percentage_completed  completed_at  \\\n",
       "0  Entwodiksyon Nan Syans Done    1047613                   0.0           0.0   \n",
       "1  Entwodiksyon Nan Syans Done    1047613                   0.0           0.0   \n",
       "\n",
       "   expired  is_free_trial  completed started_at activated_at  \\\n",
       "0    False           True      False          0            0   \n",
       "1    False           True      False          0            0   \n",
       "\n",
       "                 updated_at quest_id  \n",
       "0  2020-12-12T06:41:29.844Z        0  \n",
       "1  2020-12-13T14:41:17.720Z        0  "
      ]
     },
     "execution_count": 216,
     "metadata": {},
     "output_type": "execute_result"
    }
   ],
   "source": [
    "# Our cleaned Dataframe\n",
    "clean_enroll_df.head(2)"
   ]
  },
  {
   "cell_type": "markdown",
   "metadata": {},
   "source": [
    "**Conclusion:** All the missing values in the Enroll dataset have been filled with 0 as new value.\n",
    "Also we will be using our new dataframe called **clean_enroll_df**"
   ]
  },
  {
   "cell_type": "markdown",
   "metadata": {},
   "source": [
    ">## Industry Dataset"
   ]
  },
  {
   "cell_type": "code",
   "execution_count": 217,
   "metadata": {},
   "outputs": [
    {
     "data": {
      "text/html": [
       "<div>\n",
       "<style scoped>\n",
       "    .dataframe tbody tr th:only-of-type {\n",
       "        vertical-align: middle;\n",
       "    }\n",
       "\n",
       "    .dataframe tbody tr th {\n",
       "        vertical-align: top;\n",
       "    }\n",
       "\n",
       "    .dataframe thead th {\n",
       "        text-align: right;\n",
       "    }\n",
       "</style>\n",
       "<table border=\"1\" class=\"dataframe\">\n",
       "  <thead>\n",
       "    <tr style=\"text-align: right;\">\n",
       "      <th></th>\n",
       "      <th>Unnamed: 0</th>\n",
       "      <th>key</th>\n",
       "      <th>values</th>\n",
       "      <th>quest_id</th>\n",
       "    </tr>\n",
       "  </thead>\n",
       "  <tbody>\n",
       "    <tr>\n",
       "      <th>0</th>\n",
       "      <td>0</td>\n",
       "      <td>item1</td>\n",
       "      <td>Finance</td>\n",
       "      <td>905ddcf2-ce95-11eb-9a92-7c67a234f601</td>\n",
       "    </tr>\n",
       "    <tr>\n",
       "      <th>1</th>\n",
       "      <td>1</td>\n",
       "      <td>item6</td>\n",
       "      <td>Technology (Software/ Internet)</td>\n",
       "      <td>905e2608-ce95-11eb-809f-7c67a234f601</td>\n",
       "    </tr>\n",
       "    <tr>\n",
       "      <th>2</th>\n",
       "      <td>2</td>\n",
       "      <td>item5</td>\n",
       "      <td>Education</td>\n",
       "      <td>905e2608-ce95-11eb-809f-7c67a234f601</td>\n",
       "    </tr>\n",
       "  </tbody>\n",
       "</table>\n",
       "</div>"
      ],
      "text/plain": [
       "   Unnamed: 0    key                           values  \\\n",
       "0           0  item1                          Finance   \n",
       "1           1  item6  Technology (Software/ Internet)   \n",
       "2           2  item5                        Education   \n",
       "\n",
       "                               quest_id  \n",
       "0  905ddcf2-ce95-11eb-9a92-7c67a234f601  \n",
       "1  905e2608-ce95-11eb-809f-7c67a234f601  \n",
       "2  905e2608-ce95-11eb-809f-7c67a234f601  "
      ]
     },
     "execution_count": 217,
     "metadata": {},
     "output_type": "execute_result"
    }
   ],
   "source": [
    "# Affiche done industry yo\n",
    "industry_df.head(3)"
   ]
  },
  {
   "cell_type": "markdown",
   "metadata": {},
   "source": [
    ">## Ord Dataset"
   ]
  },
  {
   "cell_type": "code",
   "execution_count": 218,
   "metadata": {},
   "outputs": [
    {
     "data": {
      "text/html": [
       "<div>\n",
       "<style scoped>\n",
       "    .dataframe tbody tr th:only-of-type {\n",
       "        vertical-align: middle;\n",
       "    }\n",
       "\n",
       "    .dataframe tbody tr th {\n",
       "        vertical-align: top;\n",
       "    }\n",
       "\n",
       "    .dataframe thead th {\n",
       "        text-align: right;\n",
       "    }\n",
       "</style>\n",
       "<table border=\"1\" class=\"dataframe\">\n",
       "  <thead>\n",
       "    <tr style=\"text-align: right;\">\n",
       "      <th></th>\n",
       "      <th>Unnamed: 0</th>\n",
       "      <th>created_at</th>\n",
       "      <th>user_id</th>\n",
       "      <th>product_name</th>\n",
       "      <th>product_id</th>\n",
       "      <th>amount_dollars</th>\n",
       "      <th>amount_cents</th>\n",
       "      <th>subscription</th>\n",
       "      <th>coupon_code</th>\n",
       "      <th>coupon_id</th>\n",
       "      <th>affiliate_referral_code</th>\n",
       "      <th>status</th>\n",
       "      <th>quest_id</th>\n",
       "    </tr>\n",
       "  </thead>\n",
       "  <tbody>\n",
       "    <tr>\n",
       "      <th>0</th>\n",
       "      <td>0</td>\n",
       "      <td>2021-03-14T15:34:35.014Z</td>\n",
       "      <td>41587952</td>\n",
       "      <td>Entwodiksyon Nan Syans Done</td>\n",
       "      <td>1100636</td>\n",
       "      <td>20</td>\n",
       "      <td>2000</td>\n",
       "      <td>False</td>\n",
       "      <td>NaN</td>\n",
       "      <td>NaN</td>\n",
       "      <td>NaN</td>\n",
       "      <td>Complete</td>\n",
       "      <td>906b3c86-ce95-11eb-b6a7-7c67a234f601</td>\n",
       "    </tr>\n",
       "    <tr>\n",
       "      <th>1</th>\n",
       "      <td>1</td>\n",
       "      <td>2021-03-14T04:20:23.483Z</td>\n",
       "      <td>41564742</td>\n",
       "      <td>Entwodiksyon Nan Syans Done</td>\n",
       "      <td>1100636</td>\n",
       "      <td>20</td>\n",
       "      <td>2000</td>\n",
       "      <td>False</td>\n",
       "      <td>NaN</td>\n",
       "      <td>NaN</td>\n",
       "      <td>NaN</td>\n",
       "      <td>Complete</td>\n",
       "      <td>906636cf-ce95-11eb-8679-7c67a234f601</td>\n",
       "    </tr>\n",
       "    <tr>\n",
       "      <th>2</th>\n",
       "      <td>2</td>\n",
       "      <td>2021-03-12T19:29:22.832Z</td>\n",
       "      <td>41501853</td>\n",
       "      <td>Entwodiksyon Nan Syans Done</td>\n",
       "      <td>1100636</td>\n",
       "      <td>20</td>\n",
       "      <td>2000</td>\n",
       "      <td>False</td>\n",
       "      <td>NaN</td>\n",
       "      <td>NaN</td>\n",
       "      <td>NaN</td>\n",
       "      <td>Complete</td>\n",
       "      <td>906968f5-ce95-11eb-9e1a-7c67a234f601</td>\n",
       "    </tr>\n",
       "  </tbody>\n",
       "</table>\n",
       "</div>"
      ],
      "text/plain": [
       "   Unnamed: 0                created_at   user_id  \\\n",
       "0           0  2021-03-14T15:34:35.014Z  41587952   \n",
       "1           1  2021-03-14T04:20:23.483Z  41564742   \n",
       "2           2  2021-03-12T19:29:22.832Z  41501853   \n",
       "\n",
       "                  product_name  product_id  amount_dollars  amount_cents  \\\n",
       "0  Entwodiksyon Nan Syans Done     1100636              20          2000   \n",
       "1  Entwodiksyon Nan Syans Done     1100636              20          2000   \n",
       "2  Entwodiksyon Nan Syans Done     1100636              20          2000   \n",
       "\n",
       "   subscription coupon_code  coupon_id  affiliate_referral_code    status  \\\n",
       "0         False         NaN        NaN                      NaN  Complete   \n",
       "1         False         NaN        NaN                      NaN  Complete   \n",
       "2         False         NaN        NaN                      NaN  Complete   \n",
       "\n",
       "                               quest_id  \n",
       "0  906b3c86-ce95-11eb-b6a7-7c67a234f601  \n",
       "1  906636cf-ce95-11eb-8679-7c67a234f601  \n",
       "2  906968f5-ce95-11eb-9e1a-7c67a234f601  "
      ]
     },
     "execution_count": 218,
     "metadata": {},
     "output_type": "execute_result"
    }
   ],
   "source": [
    "# Affiche done ord yo\n",
    "ord_df.head(3)"
   ]
  },
  {
   "cell_type": "markdown",
   "metadata": {},
   "source": [
    "#### Data overview"
   ]
  },
  {
   "cell_type": "code",
   "execution_count": 219,
   "metadata": {},
   "outputs": [
    {
     "name": "stdout",
     "output_type": "stream",
     "text": [
      "<class 'pandas.core.frame.DataFrame'>\n",
      "RangeIndex: 18 entries, 0 to 17\n",
      "Data columns (total 13 columns):\n",
      " #   Column                   Non-Null Count  Dtype  \n",
      "---  ------                   --------------  -----  \n",
      " 0   Unnamed: 0               18 non-null     int64  \n",
      " 1   created_at               18 non-null     object \n",
      " 2   user_id                  18 non-null     int64  \n",
      " 3   product_name             18 non-null     object \n",
      " 4   product_id               18 non-null     int64  \n",
      " 5   amount_dollars           18 non-null     int64  \n",
      " 6   amount_cents             18 non-null     int64  \n",
      " 7   subscription             18 non-null     bool   \n",
      " 8   coupon_code              4 non-null      object \n",
      " 9   coupon_id                4 non-null      float64\n",
      " 10  affiliate_referral_code  0 non-null      float64\n",
      " 11  status                   18 non-null     object \n",
      " 12  quest_id                 14 non-null     object \n",
      "dtypes: bool(1), float64(2), int64(5), object(5)\n",
      "memory usage: 1.8+ KB\n"
     ]
    }
   ],
   "source": [
    "ord_df.info()"
   ]
  },
  {
   "cell_type": "code",
   "execution_count": 23,
   "metadata": {},
   "outputs": [
    {
     "data": {
      "text/plain": [
       "(18, 13)"
      ]
     },
     "execution_count": 23,
     "metadata": {},
     "output_type": "execute_result"
    }
   ],
   "source": [
    "ord_df.shape"
   ]
  },
  {
   "cell_type": "code",
   "execution_count": 220,
   "metadata": {},
   "outputs": [
    {
     "data": {
      "text/html": [
       "<div>\n",
       "<style scoped>\n",
       "    .dataframe tbody tr th:only-of-type {\n",
       "        vertical-align: middle;\n",
       "    }\n",
       "\n",
       "    .dataframe tbody tr th {\n",
       "        vertical-align: top;\n",
       "    }\n",
       "\n",
       "    .dataframe thead th {\n",
       "        text-align: right;\n",
       "    }\n",
       "</style>\n",
       "<table border=\"1\" class=\"dataframe\">\n",
       "  <thead>\n",
       "    <tr style=\"text-align: right;\">\n",
       "      <th></th>\n",
       "      <th>Unnamed: 0</th>\n",
       "      <th>user_id</th>\n",
       "      <th>product_id</th>\n",
       "      <th>amount_dollars</th>\n",
       "      <th>amount_cents</th>\n",
       "      <th>coupon_id</th>\n",
       "      <th>affiliate_referral_code</th>\n",
       "    </tr>\n",
       "  </thead>\n",
       "  <tbody>\n",
       "    <tr>\n",
       "      <th>count</th>\n",
       "      <td>18.000000</td>\n",
       "      <td>1.800000e+01</td>\n",
       "      <td>18.0</td>\n",
       "      <td>18.000000</td>\n",
       "      <td>18.000000</td>\n",
       "      <td>4.000000e+00</td>\n",
       "      <td>0.0</td>\n",
       "    </tr>\n",
       "    <tr>\n",
       "      <th>mean</th>\n",
       "      <td>8.500000</td>\n",
       "      <td>3.978105e+07</td>\n",
       "      <td>1100636.0</td>\n",
       "      <td>15.555556</td>\n",
       "      <td>1555.555556</td>\n",
       "      <td>6.535246e+06</td>\n",
       "      <td>NaN</td>\n",
       "    </tr>\n",
       "    <tr>\n",
       "      <th>std</th>\n",
       "      <td>5.338539</td>\n",
       "      <td>1.879479e+06</td>\n",
       "      <td>0.0</td>\n",
       "      <td>8.555853</td>\n",
       "      <td>855.585264</td>\n",
       "      <td>8.718553e+04</td>\n",
       "      <td>NaN</td>\n",
       "    </tr>\n",
       "    <tr>\n",
       "      <th>min</th>\n",
       "      <td>0.000000</td>\n",
       "      <td>3.485615e+07</td>\n",
       "      <td>1100636.0</td>\n",
       "      <td>0.000000</td>\n",
       "      <td>0.000000</td>\n",
       "      <td>6.452874e+06</td>\n",
       "      <td>NaN</td>\n",
       "    </tr>\n",
       "    <tr>\n",
       "      <th>25%</th>\n",
       "      <td>4.250000</td>\n",
       "      <td>3.989797e+07</td>\n",
       "      <td>1100636.0</td>\n",
       "      <td>20.000000</td>\n",
       "      <td>2000.000000</td>\n",
       "      <td>6.498275e+06</td>\n",
       "      <td>NaN</td>\n",
       "    </tr>\n",
       "    <tr>\n",
       "      <th>50%</th>\n",
       "      <td>8.500000</td>\n",
       "      <td>4.020500e+07</td>\n",
       "      <td>1100636.0</td>\n",
       "      <td>20.000000</td>\n",
       "      <td>2000.000000</td>\n",
       "      <td>6.514828e+06</td>\n",
       "      <td>NaN</td>\n",
       "    </tr>\n",
       "    <tr>\n",
       "      <th>75%</th>\n",
       "      <td>12.750000</td>\n",
       "      <td>4.038378e+07</td>\n",
       "      <td>1100636.0</td>\n",
       "      <td>20.000000</td>\n",
       "      <td>2000.000000</td>\n",
       "      <td>6.551799e+06</td>\n",
       "      <td>NaN</td>\n",
       "    </tr>\n",
       "    <tr>\n",
       "      <th>max</th>\n",
       "      <td>17.000000</td>\n",
       "      <td>4.158795e+07</td>\n",
       "      <td>1100636.0</td>\n",
       "      <td>20.000000</td>\n",
       "      <td>2000.000000</td>\n",
       "      <td>6.658457e+06</td>\n",
       "      <td>NaN</td>\n",
       "    </tr>\n",
       "  </tbody>\n",
       "</table>\n",
       "</div>"
      ],
      "text/plain": [
       "       Unnamed: 0       user_id  product_id  amount_dollars  amount_cents  \\\n",
       "count   18.000000  1.800000e+01        18.0       18.000000     18.000000   \n",
       "mean     8.500000  3.978105e+07   1100636.0       15.555556   1555.555556   \n",
       "std      5.338539  1.879479e+06         0.0        8.555853    855.585264   \n",
       "min      0.000000  3.485615e+07   1100636.0        0.000000      0.000000   \n",
       "25%      4.250000  3.989797e+07   1100636.0       20.000000   2000.000000   \n",
       "50%      8.500000  4.020500e+07   1100636.0       20.000000   2000.000000   \n",
       "75%     12.750000  4.038378e+07   1100636.0       20.000000   2000.000000   \n",
       "max     17.000000  4.158795e+07   1100636.0       20.000000   2000.000000   \n",
       "\n",
       "          coupon_id  affiliate_referral_code  \n",
       "count  4.000000e+00                      0.0  \n",
       "mean   6.535246e+06                      NaN  \n",
       "std    8.718553e+04                      NaN  \n",
       "min    6.452874e+06                      NaN  \n",
       "25%    6.498275e+06                      NaN  \n",
       "50%    6.514828e+06                      NaN  \n",
       "75%    6.551799e+06                      NaN  \n",
       "max    6.658457e+06                      NaN  "
      ]
     },
     "execution_count": 220,
     "metadata": {},
     "output_type": "execute_result"
    }
   ],
   "source": [
    "ord_df.describe()"
   ]
  },
  {
   "cell_type": "markdown",
   "metadata": {},
   "source": [
    "#### Data cleaning"
   ]
  },
  {
   "cell_type": "code",
   "execution_count": 79,
   "metadata": {},
   "outputs": [
    {
     "name": "stdout",
     "output_type": "stream",
     "text": [
      "0 Duplicated rows\n"
     ]
    }
   ],
   "source": [
    "# Duplicated rows\n",
    "print(ord_df.duplicated().sum(), \"Duplicated rows\")"
   ]
  },
  {
   "cell_type": "code",
   "execution_count": 221,
   "metadata": {},
   "outputs": [
    {
     "data": {
      "text/plain": [
       "Unnamed: 0                  0\n",
       "created_at                  0\n",
       "user_id                     0\n",
       "product_name                0\n",
       "product_id                  0\n",
       "amount_dollars              0\n",
       "amount_cents                0\n",
       "subscription                0\n",
       "coupon_code                14\n",
       "coupon_id                  14\n",
       "affiliate_referral_code    18\n",
       "status                      0\n",
       "quest_id                    4\n",
       "dtype: int64"
      ]
     },
     "execution_count": 221,
     "metadata": {},
     "output_type": "execute_result"
    }
   ],
   "source": [
    "# Show how many missing values we have in this dataset\n",
    "ord_df.isnull().sum()"
   ]
  },
  {
   "cell_type": "code",
   "execution_count": 229,
   "metadata": {},
   "outputs": [
    {
     "name": "stdout",
     "output_type": "stream",
     "text": [
      "50 Null values\n"
     ]
    }
   ],
   "source": [
    "# Count all of our missing values\n",
    "print(ord_df.isnull().sum().sum(), \"Null values\")"
   ]
  },
  {
   "cell_type": "code",
   "execution_count": 224,
   "metadata": {},
   "outputs": [],
   "source": [
    "# Dealing with our missing values\n",
    "clean_ord_df = ord_df.fillna(value=0)"
   ]
  },
  {
   "cell_type": "code",
   "execution_count": 230,
   "metadata": {},
   "outputs": [
    {
     "name": "stdout",
     "output_type": "stream",
     "text": [
      "Now we have 0 missing value Now\n"
     ]
    }
   ],
   "source": [
    "print(\"Now we have\", clean_ord_df.isnull().sum().sum(), \"missing value Now\")"
   ]
  },
  {
   "cell_type": "code",
   "execution_count": 231,
   "metadata": {},
   "outputs": [
    {
     "data": {
      "text/html": [
       "<div>\n",
       "<style scoped>\n",
       "    .dataframe tbody tr th:only-of-type {\n",
       "        vertical-align: middle;\n",
       "    }\n",
       "\n",
       "    .dataframe tbody tr th {\n",
       "        vertical-align: top;\n",
       "    }\n",
       "\n",
       "    .dataframe thead th {\n",
       "        text-align: right;\n",
       "    }\n",
       "</style>\n",
       "<table border=\"1\" class=\"dataframe\">\n",
       "  <thead>\n",
       "    <tr style=\"text-align: right;\">\n",
       "      <th></th>\n",
       "      <th>Unnamed: 0</th>\n",
       "      <th>created_at</th>\n",
       "      <th>user_id</th>\n",
       "      <th>product_name</th>\n",
       "      <th>product_id</th>\n",
       "      <th>amount_dollars</th>\n",
       "      <th>amount_cents</th>\n",
       "      <th>subscription</th>\n",
       "      <th>coupon_code</th>\n",
       "      <th>coupon_id</th>\n",
       "      <th>affiliate_referral_code</th>\n",
       "      <th>status</th>\n",
       "      <th>quest_id</th>\n",
       "    </tr>\n",
       "  </thead>\n",
       "  <tbody>\n",
       "    <tr>\n",
       "      <th>0</th>\n",
       "      <td>0</td>\n",
       "      <td>2021-03-14T15:34:35.014Z</td>\n",
       "      <td>41587952</td>\n",
       "      <td>Entwodiksyon Nan Syans Done</td>\n",
       "      <td>1100636</td>\n",
       "      <td>20</td>\n",
       "      <td>2000</td>\n",
       "      <td>False</td>\n",
       "      <td>0</td>\n",
       "      <td>0.0</td>\n",
       "      <td>0.0</td>\n",
       "      <td>Complete</td>\n",
       "      <td>906b3c86-ce95-11eb-b6a7-7c67a234f601</td>\n",
       "    </tr>\n",
       "    <tr>\n",
       "      <th>1</th>\n",
       "      <td>1</td>\n",
       "      <td>2021-03-14T04:20:23.483Z</td>\n",
       "      <td>41564742</td>\n",
       "      <td>Entwodiksyon Nan Syans Done</td>\n",
       "      <td>1100636</td>\n",
       "      <td>20</td>\n",
       "      <td>2000</td>\n",
       "      <td>False</td>\n",
       "      <td>0</td>\n",
       "      <td>0.0</td>\n",
       "      <td>0.0</td>\n",
       "      <td>Complete</td>\n",
       "      <td>906636cf-ce95-11eb-8679-7c67a234f601</td>\n",
       "    </tr>\n",
       "    <tr>\n",
       "      <th>2</th>\n",
       "      <td>2</td>\n",
       "      <td>2021-03-12T19:29:22.832Z</td>\n",
       "      <td>41501853</td>\n",
       "      <td>Entwodiksyon Nan Syans Done</td>\n",
       "      <td>1100636</td>\n",
       "      <td>20</td>\n",
       "      <td>2000</td>\n",
       "      <td>False</td>\n",
       "      <td>0</td>\n",
       "      <td>0.0</td>\n",
       "      <td>0.0</td>\n",
       "      <td>Complete</td>\n",
       "      <td>906968f5-ce95-11eb-9e1a-7c67a234f601</td>\n",
       "    </tr>\n",
       "  </tbody>\n",
       "</table>\n",
       "</div>"
      ],
      "text/plain": [
       "   Unnamed: 0                created_at   user_id  \\\n",
       "0           0  2021-03-14T15:34:35.014Z  41587952   \n",
       "1           1  2021-03-14T04:20:23.483Z  41564742   \n",
       "2           2  2021-03-12T19:29:22.832Z  41501853   \n",
       "\n",
       "                  product_name  product_id  amount_dollars  amount_cents  \\\n",
       "0  Entwodiksyon Nan Syans Done     1100636              20          2000   \n",
       "1  Entwodiksyon Nan Syans Done     1100636              20          2000   \n",
       "2  Entwodiksyon Nan Syans Done     1100636              20          2000   \n",
       "\n",
       "   subscription coupon_code  coupon_id  affiliate_referral_code    status  \\\n",
       "0         False           0        0.0                      0.0  Complete   \n",
       "1         False           0        0.0                      0.0  Complete   \n",
       "2         False           0        0.0                      0.0  Complete   \n",
       "\n",
       "                               quest_id  \n",
       "0  906b3c86-ce95-11eb-b6a7-7c67a234f601  \n",
       "1  906636cf-ce95-11eb-8679-7c67a234f601  \n",
       "2  906968f5-ce95-11eb-9e1a-7c67a234f601  "
      ]
     },
     "execution_count": 231,
     "metadata": {},
     "output_type": "execute_result"
    }
   ],
   "source": [
    "# Our new dataframe\n",
    "clean_ord_df.head(3)"
   ]
  },
  {
   "cell_type": "markdown",
   "metadata": {},
   "source": [
    "**Conclusion:** All the missing values in the Ord dataset have been filled with 0 as new value.\n",
    "Also we will be using our new dataframe called **clean_ord_df**"
   ]
  },
  {
   "cell_type": "markdown",
   "metadata": {},
   "source": [
    ">## Questions dataset"
   ]
  },
  {
   "cell_type": "code",
   "execution_count": 234,
   "metadata": {},
   "outputs": [
    {
     "data": {
      "text/html": [
       "<div>\n",
       "<style scoped>\n",
       "    .dataframe tbody tr th:only-of-type {\n",
       "        vertical-align: middle;\n",
       "    }\n",
       "\n",
       "    .dataframe tbody tr th {\n",
       "        vertical-align: top;\n",
       "    }\n",
       "\n",
       "    .dataframe thead th {\n",
       "        text-align: right;\n",
       "    }\n",
       "</style>\n",
       "<table border=\"1\" class=\"dataframe\">\n",
       "  <thead>\n",
       "    <tr style=\"text-align: right;\">\n",
       "      <th></th>\n",
       "      <th>Unnamed: 0</th>\n",
       "      <th>gender</th>\n",
       "      <th>dob</th>\n",
       "      <th>commune</th>\n",
       "      <th>created_at</th>\n",
       "      <th>modified_at</th>\n",
       "      <th>department</th>\n",
       "      <th>education_level</th>\n",
       "      <th>university</th>\n",
       "      <th>study_domain</th>\n",
       "      <th>current_employed</th>\n",
       "      <th>formal_sector_job</th>\n",
       "      <th>have_computer_home</th>\n",
       "      <th>internet_at_home</th>\n",
       "      <th>hear_AA_1</th>\n",
       "      <th>after_AA</th>\n",
       "      <th>quest_id</th>\n",
       "    </tr>\n",
       "  </thead>\n",
       "  <tbody>\n",
       "    <tr>\n",
       "      <th>0</th>\n",
       "      <td>0</td>\n",
       "      <td>male</td>\n",
       "      <td>25/08/1998</td>\n",
       "      <td>ht0111</td>\n",
       "      <td>2021-02-14T23:03:52.768400Z</td>\n",
       "      <td>2021-02-14T23:03:52.768462Z</td>\n",
       "      <td>NaN</td>\n",
       "      <td>unknown</td>\n",
       "      <td>unknown</td>\n",
       "      <td>[]</td>\n",
       "      <td>unknown</td>\n",
       "      <td>unknown</td>\n",
       "      <td>unknown</td>\n",
       "      <td>unknown</td>\n",
       "      <td>unknown</td>\n",
       "      <td>unknown</td>\n",
       "      <td>905dc006-ce95-11eb-b2f9-7c67a234f601</td>\n",
       "    </tr>\n",
       "    <tr>\n",
       "      <th>1</th>\n",
       "      <td>1</td>\n",
       "      <td>female</td>\n",
       "      <td>29/09/1996</td>\n",
       "      <td>ht0111</td>\n",
       "      <td>2021-02-16T16:01:10.861844Z</td>\n",
       "      <td>2021-02-16T16:01:10.861899Z</td>\n",
       "      <td>ht01</td>\n",
       "      <td>Bachelors (bacc +4)</td>\n",
       "      <td>other</td>\n",
       "      <td>['other']</td>\n",
       "      <td>No</td>\n",
       "      <td>unknown</td>\n",
       "      <td>Yes</td>\n",
       "      <td>Yes</td>\n",
       "      <td>Friend</td>\n",
       "      <td>Finding a job/internship</td>\n",
       "      <td>905ddcf2-ce95-11eb-9a92-7c67a234f601</td>\n",
       "    </tr>\n",
       "  </tbody>\n",
       "</table>\n",
       "</div>"
      ],
      "text/plain": [
       "   Unnamed: 0  gender         dob commune                   created_at  \\\n",
       "0           0    male  25/08/1998  ht0111  2021-02-14T23:03:52.768400Z   \n",
       "1           1  female  29/09/1996  ht0111  2021-02-16T16:01:10.861844Z   \n",
       "\n",
       "                   modified_at department      education_level university  \\\n",
       "0  2021-02-14T23:03:52.768462Z        NaN              unknown    unknown   \n",
       "1  2021-02-16T16:01:10.861899Z       ht01  Bachelors (bacc +4)      other   \n",
       "\n",
       "  study_domain current_employed formal_sector_job have_computer_home  \\\n",
       "0           []          unknown           unknown            unknown   \n",
       "1    ['other']               No           unknown                Yes   \n",
       "\n",
       "  internet_at_home hear_AA_1                  after_AA  \\\n",
       "0          unknown   unknown                   unknown   \n",
       "1              Yes    Friend  Finding a job/internship   \n",
       "\n",
       "                               quest_id  \n",
       "0  905dc006-ce95-11eb-b2f9-7c67a234f601  \n",
       "1  905ddcf2-ce95-11eb-9a92-7c67a234f601  "
      ]
     },
     "execution_count": 234,
     "metadata": {},
     "output_type": "execute_result"
    }
   ],
   "source": [
    "# Affiche done quest yo\n",
    "quest_df.head(2)"
   ]
  },
  {
   "cell_type": "markdown",
   "metadata": {},
   "source": [
    "#### Data overview"
   ]
  },
  {
   "cell_type": "code",
   "execution_count": 235,
   "metadata": {},
   "outputs": [
    {
     "data": {
      "text/plain": [
       "(250, 17)"
      ]
     },
     "execution_count": 235,
     "metadata": {},
     "output_type": "execute_result"
    }
   ],
   "source": [
    "quest_df.shape"
   ]
  },
  {
   "cell_type": "code",
   "execution_count": 236,
   "metadata": {},
   "outputs": [
    {
     "data": {
      "text/html": [
       "<div>\n",
       "<style scoped>\n",
       "    .dataframe tbody tr th:only-of-type {\n",
       "        vertical-align: middle;\n",
       "    }\n",
       "\n",
       "    .dataframe tbody tr th {\n",
       "        vertical-align: top;\n",
       "    }\n",
       "\n",
       "    .dataframe thead th {\n",
       "        text-align: right;\n",
       "    }\n",
       "</style>\n",
       "<table border=\"1\" class=\"dataframe\">\n",
       "  <thead>\n",
       "    <tr style=\"text-align: right;\">\n",
       "      <th></th>\n",
       "      <th>Unnamed: 0</th>\n",
       "    </tr>\n",
       "  </thead>\n",
       "  <tbody>\n",
       "    <tr>\n",
       "      <th>count</th>\n",
       "      <td>250.000000</td>\n",
       "    </tr>\n",
       "    <tr>\n",
       "      <th>mean</th>\n",
       "      <td>124.500000</td>\n",
       "    </tr>\n",
       "    <tr>\n",
       "      <th>std</th>\n",
       "      <td>72.312977</td>\n",
       "    </tr>\n",
       "    <tr>\n",
       "      <th>min</th>\n",
       "      <td>0.000000</td>\n",
       "    </tr>\n",
       "    <tr>\n",
       "      <th>25%</th>\n",
       "      <td>62.250000</td>\n",
       "    </tr>\n",
       "    <tr>\n",
       "      <th>50%</th>\n",
       "      <td>124.500000</td>\n",
       "    </tr>\n",
       "    <tr>\n",
       "      <th>75%</th>\n",
       "      <td>186.750000</td>\n",
       "    </tr>\n",
       "    <tr>\n",
       "      <th>max</th>\n",
       "      <td>249.000000</td>\n",
       "    </tr>\n",
       "  </tbody>\n",
       "</table>\n",
       "</div>"
      ],
      "text/plain": [
       "       Unnamed: 0\n",
       "count  250.000000\n",
       "mean   124.500000\n",
       "std     72.312977\n",
       "min      0.000000\n",
       "25%     62.250000\n",
       "50%    124.500000\n",
       "75%    186.750000\n",
       "max    249.000000"
      ]
     },
     "execution_count": 236,
     "metadata": {},
     "output_type": "execute_result"
    }
   ],
   "source": [
    "quest_df.describe()"
   ]
  },
  {
   "cell_type": "code",
   "execution_count": 237,
   "metadata": {},
   "outputs": [
    {
     "name": "stdout",
     "output_type": "stream",
     "text": [
      "<class 'pandas.core.frame.DataFrame'>\n",
      "RangeIndex: 250 entries, 0 to 249\n",
      "Data columns (total 17 columns):\n",
      " #   Column              Non-Null Count  Dtype \n",
      "---  ------              --------------  ----- \n",
      " 0   Unnamed: 0          250 non-null    int64 \n",
      " 1   gender              250 non-null    object\n",
      " 2   dob                 244 non-null    object\n",
      " 3   commune             250 non-null    object\n",
      " 4   created_at          250 non-null    object\n",
      " 5   modified_at         250 non-null    object\n",
      " 6   department          249 non-null    object\n",
      " 7   education_level     250 non-null    object\n",
      " 8   university          250 non-null    object\n",
      " 9   study_domain        250 non-null    object\n",
      " 10  current_employed    250 non-null    object\n",
      " 11  formal_sector_job   250 non-null    object\n",
      " 12  have_computer_home  250 non-null    object\n",
      " 13  internet_at_home    250 non-null    object\n",
      " 14  hear_AA_1           250 non-null    object\n",
      " 15  after_AA            250 non-null    object\n",
      " 16  quest_id            250 non-null    object\n",
      "dtypes: int64(1), object(16)\n",
      "memory usage: 33.3+ KB\n"
     ]
    }
   ],
   "source": [
    "quest_df.info()"
   ]
  },
  {
   "cell_type": "markdown",
   "metadata": {},
   "source": [
    "#### Data cleaning"
   ]
  },
  {
   "cell_type": "code",
   "execution_count": 35,
   "metadata": {},
   "outputs": [
    {
     "data": {
      "text/plain": [
       "0"
      ]
     },
     "execution_count": 35,
     "metadata": {},
     "output_type": "execute_result"
    }
   ],
   "source": [
    "# Looking for duplicated rows\n",
    "quest_df.duplicated().sum()"
   ]
  },
  {
   "cell_type": "code",
   "execution_count": 238,
   "metadata": {},
   "outputs": [
    {
     "data": {
      "text/plain": [
       "Unnamed: 0            0\n",
       "gender                0\n",
       "dob                   6\n",
       "commune               0\n",
       "created_at            0\n",
       "modified_at           0\n",
       "department            1\n",
       "education_level       0\n",
       "university            0\n",
       "study_domain          0\n",
       "current_employed      0\n",
       "formal_sector_job     0\n",
       "have_computer_home    0\n",
       "internet_at_home      0\n",
       "hear_AA_1             0\n",
       "after_AA              0\n",
       "quest_id              0\n",
       "dtype: int64"
      ]
     },
     "execution_count": 238,
     "metadata": {},
     "output_type": "execute_result"
    }
   ],
   "source": [
    "# Missing values\n",
    "quest_df.isnull().sum()"
   ]
  },
  {
   "cell_type": "code",
   "execution_count": 239,
   "metadata": {},
   "outputs": [
    {
     "name": "stdout",
     "output_type": "stream",
     "text": [
      "We have 7 missing values in our dataset\n"
     ]
    }
   ],
   "source": [
    "# Total missing values\n",
    "print('We have',quest_df.isnull().sum().sum(),'missing values in our dataset')"
   ]
  },
  {
   "cell_type": "code",
   "execution_count": 240,
   "metadata": {},
   "outputs": [],
   "source": [
    "# Dealing with our missing values\n",
    "clean_quest_df = quest_df.fillna({'dob':'not specified', 'department':'no info'}).fillna(0)"
   ]
  },
  {
   "cell_type": "code",
   "execution_count": 243,
   "metadata": {},
   "outputs": [
    {
     "name": "stdout",
     "output_type": "stream",
     "text": [
      "Now all this dataframe is clean we have 0 missing value\n"
     ]
    }
   ],
   "source": [
    "print(\"Now all this dataframe is clean we have\", clean_quest_df.isnull().sum().sum(), \"missing value\")"
   ]
  },
  {
   "cell_type": "code",
   "execution_count": 244,
   "metadata": {},
   "outputs": [],
   "source": [
    "# Rename the column commune to Commune_Id\n",
    "# I do this because i need this dataframe to be able to merge easily with the commune dataset\n",
    "clean_quest_df = clean_quest_df.rename(columns={'commune':'Commune_Id'})"
   ]
  },
  {
   "cell_type": "code",
   "execution_count": 250,
   "metadata": {},
   "outputs": [],
   "source": [
    "# Add all our \"commune\" values on uppercase to match with our commune ID\n",
    "clean_quest_df[\"Commune_Id\"] = clean_quest_df[\"Commune_Id\"].str.upper()"
   ]
  },
  {
   "cell_type": "code",
   "execution_count": 252,
   "metadata": {},
   "outputs": [
    {
     "data": {
      "text/html": [
       "<div>\n",
       "<style scoped>\n",
       "    .dataframe tbody tr th:only-of-type {\n",
       "        vertical-align: middle;\n",
       "    }\n",
       "\n",
       "    .dataframe tbody tr th {\n",
       "        vertical-align: top;\n",
       "    }\n",
       "\n",
       "    .dataframe thead th {\n",
       "        text-align: right;\n",
       "    }\n",
       "</style>\n",
       "<table border=\"1\" class=\"dataframe\">\n",
       "  <thead>\n",
       "    <tr style=\"text-align: right;\">\n",
       "      <th></th>\n",
       "      <th>Unnamed: 0</th>\n",
       "      <th>gender</th>\n",
       "      <th>dob</th>\n",
       "      <th>Commune_Id</th>\n",
       "      <th>created_at</th>\n",
       "      <th>modified_at</th>\n",
       "      <th>department</th>\n",
       "      <th>education_level</th>\n",
       "      <th>university</th>\n",
       "      <th>study_domain</th>\n",
       "      <th>current_employed</th>\n",
       "      <th>formal_sector_job</th>\n",
       "      <th>have_computer_home</th>\n",
       "      <th>internet_at_home</th>\n",
       "      <th>hear_AA_1</th>\n",
       "      <th>after_AA</th>\n",
       "      <th>quest_id</th>\n",
       "    </tr>\n",
       "  </thead>\n",
       "  <tbody>\n",
       "    <tr>\n",
       "      <th>0</th>\n",
       "      <td>0</td>\n",
       "      <td>male</td>\n",
       "      <td>25/08/1998</td>\n",
       "      <td>HT0111</td>\n",
       "      <td>2021-02-14T23:03:52.768400Z</td>\n",
       "      <td>2021-02-14T23:03:52.768462Z</td>\n",
       "      <td>no info</td>\n",
       "      <td>unknown</td>\n",
       "      <td>unknown</td>\n",
       "      <td>[]</td>\n",
       "      <td>unknown</td>\n",
       "      <td>unknown</td>\n",
       "      <td>unknown</td>\n",
       "      <td>unknown</td>\n",
       "      <td>unknown</td>\n",
       "      <td>unknown</td>\n",
       "      <td>905dc006-ce95-11eb-b2f9-7c67a234f601</td>\n",
       "    </tr>\n",
       "    <tr>\n",
       "      <th>1</th>\n",
       "      <td>1</td>\n",
       "      <td>female</td>\n",
       "      <td>29/09/1996</td>\n",
       "      <td>HT0111</td>\n",
       "      <td>2021-02-16T16:01:10.861844Z</td>\n",
       "      <td>2021-02-16T16:01:10.861899Z</td>\n",
       "      <td>ht01</td>\n",
       "      <td>Bachelors (bacc +4)</td>\n",
       "      <td>other</td>\n",
       "      <td>['other']</td>\n",
       "      <td>No</td>\n",
       "      <td>unknown</td>\n",
       "      <td>Yes</td>\n",
       "      <td>Yes</td>\n",
       "      <td>Friend</td>\n",
       "      <td>Finding a job/internship</td>\n",
       "      <td>905ddcf2-ce95-11eb-9a92-7c67a234f601</td>\n",
       "    </tr>\n",
       "  </tbody>\n",
       "</table>\n",
       "</div>"
      ],
      "text/plain": [
       "   Unnamed: 0  gender         dob Commune_Id                   created_at  \\\n",
       "0           0    male  25/08/1998     HT0111  2021-02-14T23:03:52.768400Z   \n",
       "1           1  female  29/09/1996     HT0111  2021-02-16T16:01:10.861844Z   \n",
       "\n",
       "                   modified_at department      education_level university  \\\n",
       "0  2021-02-14T23:03:52.768462Z    no info              unknown    unknown   \n",
       "1  2021-02-16T16:01:10.861899Z       ht01  Bachelors (bacc +4)      other   \n",
       "\n",
       "  study_domain current_employed formal_sector_job have_computer_home  \\\n",
       "0           []          unknown           unknown            unknown   \n",
       "1    ['other']               No           unknown                Yes   \n",
       "\n",
       "  internet_at_home hear_AA_1                  after_AA  \\\n",
       "0          unknown   unknown                   unknown   \n",
       "1              Yes    Friend  Finding a job/internship   \n",
       "\n",
       "                               quest_id  \n",
       "0  905dc006-ce95-11eb-b2f9-7c67a234f601  \n",
       "1  905ddcf2-ce95-11eb-9a92-7c67a234f601  "
      ]
     },
     "execution_count": 252,
     "metadata": {},
     "output_type": "execute_result"
    }
   ],
   "source": [
    "# Display our clean dataframe\n",
    "clean_quest_df.head(2)"
   ]
  },
  {
   "cell_type": "markdown",
   "metadata": {},
   "source": [
    ">## Study domain Dataset"
   ]
  },
  {
   "cell_type": "code",
   "execution_count": 254,
   "metadata": {},
   "outputs": [
    {
     "data": {
      "text/html": [
       "<div>\n",
       "<style scoped>\n",
       "    .dataframe tbody tr th:only-of-type {\n",
       "        vertical-align: middle;\n",
       "    }\n",
       "\n",
       "    .dataframe tbody tr th {\n",
       "        vertical-align: top;\n",
       "    }\n",
       "\n",
       "    .dataframe thead th {\n",
       "        text-align: right;\n",
       "    }\n",
       "</style>\n",
       "<table border=\"1\" class=\"dataframe\">\n",
       "  <thead>\n",
       "    <tr style=\"text-align: right;\">\n",
       "      <th></th>\n",
       "      <th>Unnamed: 0</th>\n",
       "      <th>key</th>\n",
       "      <th>values</th>\n",
       "      <th>quest_id</th>\n",
       "    </tr>\n",
       "  </thead>\n",
       "  <tbody>\n",
       "    <tr>\n",
       "      <th>0</th>\n",
       "      <td>0</td>\n",
       "      <td>other</td>\n",
       "      <td>other</td>\n",
       "      <td>905ddcf2-ce95-11eb-9a92-7c67a234f601</td>\n",
       "    </tr>\n",
       "    <tr>\n",
       "      <th>1</th>\n",
       "      <td>1</td>\n",
       "      <td>item1</td>\n",
       "      <td>Computer Science</td>\n",
       "      <td>905e4cf5-ce95-11eb-96a9-7c67a234f601</td>\n",
       "    </tr>\n",
       "  </tbody>\n",
       "</table>\n",
       "</div>"
      ],
      "text/plain": [
       "   Unnamed: 0    key            values                              quest_id\n",
       "0           0  other             other  905ddcf2-ce95-11eb-9a92-7c67a234f601\n",
       "1           1  item1  Computer Science  905e4cf5-ce95-11eb-96a9-7c67a234f601"
      ]
     },
     "execution_count": 254,
     "metadata": {},
     "output_type": "execute_result"
    }
   ],
   "source": [
    "# Affiche done Study domain yo\n",
    "studyd_df.head(2)"
   ]
  },
  {
   "cell_type": "code",
   "execution_count": 255,
   "metadata": {},
   "outputs": [
    {
     "data": {
      "text/plain": [
       "0"
      ]
     },
     "execution_count": 255,
     "metadata": {},
     "output_type": "execute_result"
    }
   ],
   "source": [
    "studyd_df.isnull().sum().sum()"
   ]
  },
  {
   "cell_type": "code",
   "execution_count": 256,
   "metadata": {},
   "outputs": [
    {
     "data": {
      "text/plain": [
       "0"
      ]
     },
     "execution_count": 256,
     "metadata": {},
     "output_type": "execute_result"
    }
   ],
   "source": [
    "studyd_df.duplicated().sum()"
   ]
  },
  {
   "cell_type": "markdown",
   "metadata": {},
   "source": [
    ">## Technology Dataset"
   ]
  },
  {
   "cell_type": "code",
   "execution_count": 49,
   "metadata": {},
   "outputs": [
    {
     "data": {
      "text/html": [
       "<div>\n",
       "<style scoped>\n",
       "    .dataframe tbody tr th:only-of-type {\n",
       "        vertical-align: middle;\n",
       "    }\n",
       "\n",
       "    .dataframe tbody tr th {\n",
       "        vertical-align: top;\n",
       "    }\n",
       "\n",
       "    .dataframe thead th {\n",
       "        text-align: right;\n",
       "    }\n",
       "</style>\n",
       "<table border=\"1\" class=\"dataframe\">\n",
       "  <thead>\n",
       "    <tr style=\"text-align: right;\">\n",
       "      <th></th>\n",
       "      <th>Unnamed: 0</th>\n",
       "      <th>key</th>\n",
       "      <th>values</th>\n",
       "      <th>quest_id</th>\n",
       "    </tr>\n",
       "  </thead>\n",
       "  <tbody>\n",
       "    <tr>\n",
       "      <th>0</th>\n",
       "      <td>0</td>\n",
       "      <td>item1</td>\n",
       "      <td>R</td>\n",
       "      <td>905ddcf2-ce95-11eb-9a92-7c67a234f601</td>\n",
       "    </tr>\n",
       "    <tr>\n",
       "      <th>1</th>\n",
       "      <td>1</td>\n",
       "      <td>item11</td>\n",
       "      <td>Excel</td>\n",
       "      <td>905ddcf2-ce95-11eb-9a92-7c67a234f601</td>\n",
       "    </tr>\n",
       "    <tr>\n",
       "      <th>2</th>\n",
       "      <td>2</td>\n",
       "      <td>item2</td>\n",
       "      <td>Python</td>\n",
       "      <td>905e2608-ce95-11eb-809f-7c67a234f601</td>\n",
       "    </tr>\n",
       "  </tbody>\n",
       "</table>\n",
       "</div>"
      ],
      "text/plain": [
       "   Unnamed: 0     key  values                              quest_id\n",
       "0           0   item1       R  905ddcf2-ce95-11eb-9a92-7c67a234f601\n",
       "1           1  item11   Excel  905ddcf2-ce95-11eb-9a92-7c67a234f601\n",
       "2           2   item2  Python  905e2608-ce95-11eb-809f-7c67a234f601"
      ]
     },
     "execution_count": 49,
     "metadata": {},
     "output_type": "execute_result"
    }
   ],
   "source": [
    "# Affiche done technology yo\n",
    "tech_df.head(3)"
   ]
  },
  {
   "cell_type": "code",
   "execution_count": 50,
   "metadata": {},
   "outputs": [
    {
     "name": "stdout",
     "output_type": "stream",
     "text": [
      "0 Dupicated rows\n"
     ]
    }
   ],
   "source": [
    "# Duplicated rows in our dataset\n",
    "print(tech_df.duplicated().sum(),'Dupicated rows')"
   ]
  },
  {
   "cell_type": "code",
   "execution_count": 51,
   "metadata": {},
   "outputs": [
    {
     "name": "stdout",
     "output_type": "stream",
     "text": [
      "0 Null values\n"
     ]
    }
   ],
   "source": [
    "# Missing values\n",
    "print(tech_df.isnull().sum().sum(),\"Null values\")"
   ]
  },
  {
   "cell_type": "code",
   "execution_count": 52,
   "metadata": {},
   "outputs": [
    {
     "data": {
      "text/html": [
       "<div>\n",
       "<style scoped>\n",
       "    .dataframe tbody tr th:only-of-type {\n",
       "        vertical-align: middle;\n",
       "    }\n",
       "\n",
       "    .dataframe tbody tr th {\n",
       "        vertical-align: top;\n",
       "    }\n",
       "\n",
       "    .dataframe thead th {\n",
       "        text-align: right;\n",
       "    }\n",
       "</style>\n",
       "<table border=\"1\" class=\"dataframe\">\n",
       "  <thead>\n",
       "    <tr style=\"text-align: right;\">\n",
       "      <th></th>\n",
       "      <th>Unnamed: 0</th>\n",
       "      <th>created_at</th>\n",
       "      <th>modified_at</th>\n",
       "      <th>user_id</th>\n",
       "      <th>course_id</th>\n",
       "      <th>transaction_id</th>\n",
       "    </tr>\n",
       "  </thead>\n",
       "  <tbody>\n",
       "    <tr>\n",
       "      <th>0</th>\n",
       "      <td>0</td>\n",
       "      <td>2021-03-08T05:08:50.832Z</td>\n",
       "      <td>2021-03-08T05:08:50.832Z</td>\n",
       "      <td>40976440</td>\n",
       "      <td>1047613</td>\n",
       "      <td>4641281952</td>\n",
       "    </tr>\n",
       "    <tr>\n",
       "      <th>1</th>\n",
       "      <td>1</td>\n",
       "      <td>2021-03-08T17:26:35.841Z</td>\n",
       "      <td>2021-03-08T17:26:35.841Z</td>\n",
       "      <td>41179271</td>\n",
       "      <td>1047613</td>\n",
       "      <td>4644270160</td>\n",
       "    </tr>\n",
       "    <tr>\n",
       "      <th>2</th>\n",
       "      <td>2</td>\n",
       "      <td>2021-03-08T18:52:09.147Z</td>\n",
       "      <td>2021-03-08T18:52:09.147Z</td>\n",
       "      <td>40973512</td>\n",
       "      <td>1047613</td>\n",
       "      <td>4645070622</td>\n",
       "    </tr>\n",
       "  </tbody>\n",
       "</table>\n",
       "</div>"
      ],
      "text/plain": [
       "   Unnamed: 0                created_at               modified_at   user_id  \\\n",
       "0           0  2021-03-08T05:08:50.832Z  2021-03-08T05:08:50.832Z  40976440   \n",
       "1           1  2021-03-08T17:26:35.841Z  2021-03-08T17:26:35.841Z  41179271   \n",
       "2           2  2021-03-08T18:52:09.147Z  2021-03-08T18:52:09.147Z  40973512   \n",
       "\n",
       "   course_id  transaction_id  \n",
       "0    1047613      4641281952  \n",
       "1    1047613      4644270160  \n",
       "2    1047613      4645070622  "
      ]
     },
     "execution_count": 52,
     "metadata": {},
     "output_type": "execute_result"
    }
   ],
   "source": [
    "# Affiche done industry yo\n",
    "transaction_df.head(3)"
   ]
  },
  {
   "cell_type": "code",
   "execution_count": 53,
   "metadata": {},
   "outputs": [
    {
     "name": "stdout",
     "output_type": "stream",
     "text": [
      "0 Duplicated rows\n"
     ]
    }
   ],
   "source": [
    "print(transaction_df.duplicated().sum(),'Duplicated rows')"
   ]
  },
  {
   "cell_type": "code",
   "execution_count": 54,
   "metadata": {},
   "outputs": [
    {
     "name": "stdout",
     "output_type": "stream",
     "text": [
      "0 Missing values\n"
     ]
    }
   ],
   "source": [
    "print(transaction_df.isnull().sum().sum(),'Missing values')"
   ]
  },
  {
   "cell_type": "markdown",
   "metadata": {},
   "source": [
    "## Looking for the top three communes of the country that will be the most likely to expand its training centers."
   ]
  },
  {
   "cell_type": "code",
   "execution_count": 443,
   "metadata": {},
   "outputs": [],
   "source": [
    "# merge ou commune dataframe with our questions dataframe\n",
    "# merge_location_df = pd.merge(clean_commune_df,clean_quest_df,on=\"Commune_Id\")"
   ]
  },
  {
   "cell_type": "code",
   "execution_count": 444,
   "metadata": {},
   "outputs": [],
   "source": [
    "# New Dataframe we are going to use\n",
    "# location_df = merge_location_df[[\"Commune_en\"]]\n",
    "# location_df.head(5)"
   ]
  },
  {
   "cell_type": "code",
   "execution_count": 445,
   "metadata": {},
   "outputs": [
    {
     "data": {
      "text/plain": [
       "Commune_en    \n",
       "Delmas            71\n",
       "Port-au-Prince    59\n",
       "Petion-Ville      29\n",
       "dtype: int64"
      ]
     },
     "execution_count": 445,
     "metadata": {},
     "output_type": "execute_result"
    }
   ],
   "source": [
    "# Top three communes of the country that will be the most likely to expand its training centers.\n",
    "location_df.value_counts().head(3)"
   ]
  },
  {
   "cell_type": "markdown",
   "metadata": {},
   "source": [
    "#### 2. Data vizualisation"
   ]
  },
  {
   "cell_type": "code",
   "execution_count": null,
   "metadata": {},
   "outputs": [],
   "source": []
  },
  {
   "cell_type": "markdown",
   "metadata": {},
   "source": [
    "## Question 1. How many applications must be made to select 25% women for each on average"
   ]
  },
  {
   "cell_type": "code",
   "execution_count": null,
   "metadata": {},
   "outputs": [],
   "source": []
  },
  {
   "cell_type": "markdown",
   "metadata": {},
   "source": [
    "## Question 2. What are the most effective communication channels (Alumni, Facebook, WhatsApp, Friend ...) that will allow a student to be susceptible to selection"
   ]
  },
  {
   "cell_type": "markdown",
   "metadata": {},
   "source": [
    "#### Data overview"
   ]
  },
  {
   "cell_type": "code",
   "execution_count": 431,
   "metadata": {},
   "outputs": [],
   "source": [
    "# Verify all the communication channel based on our Question dataframe\n",
    "communication_channels = clean_quest_df[\"hear_AA_1\"]"
   ]
  },
  {
   "cell_type": "code",
   "execution_count": 437,
   "metadata": {},
   "outputs": [
    {
     "data": {
      "text/plain": [
       "(250,)"
      ]
     },
     "execution_count": 437,
     "metadata": {},
     "output_type": "execute_result"
    }
   ],
   "source": [
    "communication_channels.shape"
   ]
  },
  {
   "cell_type": "code",
   "execution_count": 434,
   "metadata": {},
   "outputs": [
    {
     "data": {
      "text/plain": [
       "Friend      67\n",
       "WhatsApp    66\n",
       "Facebook    40\n",
       "ESIH        18\n",
       "LinkedIn    15\n",
       "Name: hear_AA_1, dtype: int64"
      ]
     },
     "execution_count": 434,
     "metadata": {},
     "output_type": "execute_result"
    }
   ],
   "source": [
    "communication_channels.value_counts().head(5)"
   ]
  },
  {
   "cell_type": "markdown",
   "metadata": {},
   "source": [
    "#### Data visualization"
   ]
  },
  {
   "cell_type": "code",
   "execution_count": null,
   "metadata": {},
   "outputs": [],
   "source": []
  },
  {
   "cell_type": "markdown",
   "metadata": {},
   "source": [
    "**Conclusion:** Based on all communications the most effective communication channels are: Friend, Whatsapp, Facebook, ESIH, LinkedIn"
   ]
  },
  {
   "cell_type": "markdown",
   "metadata": {},
   "source": [
    "## Question 3. What is the average number of university students who should participate in this program"
   ]
  },
  {
   "cell_type": "code",
   "execution_count": null,
   "metadata": {},
   "outputs": [],
   "source": []
  },
  {
   "cell_type": "markdown",
   "metadata": {},
   "source": [
    "## Question 4. What will be the average number of applications per week that we could have"
   ]
  },
  {
   "cell_type": "code",
   "execution_count": null,
   "metadata": {},
   "outputs": [],
   "source": []
  },
  {
   "cell_type": "markdown",
   "metadata": {},
   "source": [
    "## Question 5. How many weeks should we extend the application process to select 60 students per commune?"
   ]
  },
  {
   "cell_type": "code",
   "execution_count": null,
   "metadata": {},
   "outputs": [],
   "source": []
  },
  {
   "cell_type": "markdown",
   "metadata": {},
   "source": [
    "## Question 6. If we were to do all the bootcamp online, who would be the best communes and how many applications would we need to select 30 student and what percentage of students would have a laptop, an internet connection, both at the same time"
   ]
  },
  {
   "cell_type": "markdown",
   "metadata": {},
   "source": [
    "> To reply to this question, First we are going to merge our commune dataframe with our question's dataframe and we are going to look in our new data frame to see where all our canditates located."
   ]
  },
  {
   "cell_type": "markdown",
   "metadata": {},
   "source": [
    "#### 2. Merge/join the dataframe"
   ]
  },
  {
   "cell_type": "code",
   "execution_count": 375,
   "metadata": {},
   "outputs": [
    {
     "data": {
      "text/plain": [
       "Index(['Commune_en', 'Commune_Id', 'Departement', 'ADM1_PCODE'], dtype='object')"
      ]
     },
     "execution_count": 375,
     "metadata": {},
     "output_type": "execute_result"
    }
   ],
   "source": [
    "# Review our commun columns\n",
    "clean_commune_df.columns"
   ]
  },
  {
   "cell_type": "code",
   "execution_count": 374,
   "metadata": {},
   "outputs": [
    {
     "data": {
      "text/plain": [
       "Index(['Unnamed: 0', 'gender', 'dob', 'Commune_Id', 'created_at',\n",
       "       'modified_at', 'department', 'education_level', 'university',\n",
       "       'study_domain', 'current_employed', 'formal_sector_job',\n",
       "       'have_computer_home', 'internet_at_home', 'hear_AA_1', 'after_AA',\n",
       "       'quest_id'],\n",
       "      dtype='object')"
      ]
     },
     "execution_count": 374,
     "metadata": {},
     "output_type": "execute_result"
    }
   ],
   "source": [
    "# Review our questions columns\n",
    "clean_quest_df.columns"
   ]
  },
  {
   "cell_type": "code",
   "execution_count": 379,
   "metadata": {},
   "outputs": [],
   "source": [
    "merge_df = pd.merge(clean_commune_df,clean_quest_df, on=\"Commune_Id\")"
   ]
  },
  {
   "cell_type": "code",
   "execution_count": 415,
   "metadata": {},
   "outputs": [
    {
     "data": {
      "text/html": [
       "<div>\n",
       "<style scoped>\n",
       "    .dataframe tbody tr th:only-of-type {\n",
       "        vertical-align: middle;\n",
       "    }\n",
       "\n",
       "    .dataframe tbody tr th {\n",
       "        vertical-align: top;\n",
       "    }\n",
       "\n",
       "    .dataframe thead th {\n",
       "        text-align: right;\n",
       "    }\n",
       "</style>\n",
       "<table border=\"1\" class=\"dataframe\">\n",
       "  <thead>\n",
       "    <tr style=\"text-align: right;\">\n",
       "      <th></th>\n",
       "      <th>Commune_en</th>\n",
       "      <th>Commune_Id</th>\n",
       "      <th>Departement</th>\n",
       "      <th>have_computer_home</th>\n",
       "      <th>internet_at_home</th>\n",
       "    </tr>\n",
       "  </thead>\n",
       "  <tbody>\n",
       "    <tr>\n",
       "      <th>0</th>\n",
       "      <td>Aquin</td>\n",
       "      <td>HT0731</td>\n",
       "      <td>South</td>\n",
       "      <td>Yes</td>\n",
       "      <td>Yes</td>\n",
       "    </tr>\n",
       "    <tr>\n",
       "      <th>1</th>\n",
       "      <td>Cap-Haitien</td>\n",
       "      <td>HT0311</td>\n",
       "      <td>North</td>\n",
       "      <td>Yes</td>\n",
       "      <td>Yes</td>\n",
       "    </tr>\n",
       "    <tr>\n",
       "      <th>2</th>\n",
       "      <td>Cap-Haitien</td>\n",
       "      <td>HT0311</td>\n",
       "      <td>North</td>\n",
       "      <td>Yes</td>\n",
       "      <td>No</td>\n",
       "    </tr>\n",
       "  </tbody>\n",
       "</table>\n",
       "</div>"
      ],
      "text/plain": [
       "    Commune_en Commune_Id Departement have_computer_home internet_at_home\n",
       "0        Aquin     HT0731       South                Yes              Yes\n",
       "1  Cap-Haitien     HT0311       North                Yes              Yes\n",
       "2  Cap-Haitien     HT0311       North                Yes               No"
      ]
     },
     "execution_count": 415,
     "metadata": {},
     "output_type": "execute_result"
    }
   ],
   "source": [
    "new_df = merge_df[[\"Commune_en\",\"Commune_Id\",\"Departement\",\"have_computer_home\",\"internet_at_home\"]]\n",
    "new_df.head(3)"
   ]
  },
  {
   "cell_type": "markdown",
   "metadata": {},
   "source": [
    "#### If all the bootcamp were online, who would be the best communes"
   ]
  },
  {
   "cell_type": "code",
   "execution_count": 417,
   "metadata": {},
   "outputs": [
    {
     "data": {
      "text/html": [
       "<div>\n",
       "<style scoped>\n",
       "    .dataframe tbody tr th:only-of-type {\n",
       "        vertical-align: middle;\n",
       "    }\n",
       "\n",
       "    .dataframe tbody tr th {\n",
       "        vertical-align: top;\n",
       "    }\n",
       "\n",
       "    .dataframe thead th {\n",
       "        text-align: right;\n",
       "    }\n",
       "</style>\n",
       "<table border=\"1\" class=\"dataframe\">\n",
       "  <thead>\n",
       "    <tr style=\"text-align: right;\">\n",
       "      <th></th>\n",
       "      <th>Commune_en</th>\n",
       "      <th>Commune_Id</th>\n",
       "      <th>Departement</th>\n",
       "      <th>have_computer_home</th>\n",
       "      <th>internet_at_home</th>\n",
       "    </tr>\n",
       "  </thead>\n",
       "  <tbody>\n",
       "    <tr>\n",
       "      <th>0</th>\n",
       "      <td>Aquin</td>\n",
       "      <td>HT0731</td>\n",
       "      <td>South</td>\n",
       "      <td>Yes</td>\n",
       "      <td>Yes</td>\n",
       "    </tr>\n",
       "    <tr>\n",
       "      <th>1</th>\n",
       "      <td>Cap-Haitien</td>\n",
       "      <td>HT0311</td>\n",
       "      <td>North</td>\n",
       "      <td>Yes</td>\n",
       "      <td>Yes</td>\n",
       "    </tr>\n",
       "    <tr>\n",
       "      <th>4</th>\n",
       "      <td>Cap-Haitien</td>\n",
       "      <td>HT0311</td>\n",
       "      <td>North</td>\n",
       "      <td>Yes</td>\n",
       "      <td>Yes</td>\n",
       "    </tr>\n",
       "    <tr>\n",
       "      <th>5</th>\n",
       "      <td>Cap-Haitien</td>\n",
       "      <td>HT0311</td>\n",
       "      <td>North</td>\n",
       "      <td>Yes</td>\n",
       "      <td>Yes</td>\n",
       "    </tr>\n",
       "    <tr>\n",
       "      <th>6</th>\n",
       "      <td>Caracol</td>\n",
       "      <td>HT0434</td>\n",
       "      <td>North-East</td>\n",
       "      <td>Yes</td>\n",
       "      <td>Yes</td>\n",
       "    </tr>\n",
       "  </tbody>\n",
       "</table>\n",
       "</div>"
      ],
      "text/plain": [
       "    Commune_en Commune_Id Departement have_computer_home internet_at_home\n",
       "0        Aquin     HT0731       South                Yes              Yes\n",
       "1  Cap-Haitien     HT0311       North                Yes              Yes\n",
       "4  Cap-Haitien     HT0311       North                Yes              Yes\n",
       "5  Cap-Haitien     HT0311       North                Yes              Yes\n",
       "6      Caracol     HT0434  North-East                Yes              Yes"
      ]
     },
     "execution_count": 417,
     "metadata": {},
     "output_type": "execute_result"
    }
   ],
   "source": [
    "# Display all students with a laptop, an internet connection, both at the same time\n",
    "both_yes = new_df.loc[(new_df['have_computer_home'] == \"Yes\") & (new_df['internet_at_home'] == \"Yes\")]\n",
    "both_yes.head()"
   ]
  },
  {
   "cell_type": "code",
   "execution_count": 426,
   "metadata": {},
   "outputs": [],
   "source": [
    "best_communes_df = both_yes[['Commune_en','have_computer_home','internet_at_home']]"
   ]
  },
  {
   "cell_type": "code",
   "execution_count": 428,
   "metadata": {},
   "outputs": [
    {
     "data": {
      "text/plain": [
       "Commune_en      have_computer_home  internet_at_home\n",
       "Delmas          Yes                 Yes                 58\n",
       "Port-au-Prince  Yes                 Yes                 52\n",
       "Petion-Ville    Yes                 Yes                 21\n",
       "Carrefour       Yes                 Yes                 17\n",
       "Tabarre         Yes                 Yes                  9\n",
       "dtype: int64"
      ]
     },
     "execution_count": 428,
     "metadata": {},
     "output_type": "execute_result"
    }
   ],
   "source": [
    "# Now let's check for the best communes\n",
    "best_communes = best_communes_df.value_counts()\n",
    "best_communes.head(5)"
   ]
  },
  {
   "cell_type": "markdown",
   "metadata": {},
   "source": [
    "**Conclusion:** If all the bootcamp were online, the best communes would be: **Delmas, Port-au-Prince, Petion-Ville, Carrefour, Tabarre.**\n",
    "\n",
    "POV: Based on all Minimum technical and software requirements for online courses we have selected all our students with **Computer at home** and **Internet at home** and we look for their location to what communes would be the best if the bootcamp were online"
   ]
  },
  {
   "cell_type": "code",
   "execution_count": null,
   "metadata": {},
   "outputs": [],
   "source": []
  },
  {
   "cell_type": "markdown",
   "metadata": {},
   "source": [
    "#### Percentage of students would have a laptop, an internet connection, both at the same time"
   ]
  },
  {
   "cell_type": "code",
   "execution_count": 412,
   "metadata": {},
   "outputs": [
    {
     "data": {
      "text/html": [
       "<div>\n",
       "<style scoped>\n",
       "    .dataframe tbody tr th:only-of-type {\n",
       "        vertical-align: middle;\n",
       "    }\n",
       "\n",
       "    .dataframe tbody tr th {\n",
       "        vertical-align: top;\n",
       "    }\n",
       "\n",
       "    .dataframe thead th {\n",
       "        text-align: right;\n",
       "    }\n",
       "</style>\n",
       "<table border=\"1\" class=\"dataframe\">\n",
       "  <thead>\n",
       "    <tr style=\"text-align: right;\">\n",
       "      <th></th>\n",
       "      <th>have_computer_home</th>\n",
       "      <th>internet_at_home</th>\n",
       "    </tr>\n",
       "  </thead>\n",
       "  <tbody>\n",
       "    <tr>\n",
       "      <th>0</th>\n",
       "      <td>Yes</td>\n",
       "      <td>Yes</td>\n",
       "    </tr>\n",
       "    <tr>\n",
       "      <th>1</th>\n",
       "      <td>Yes</td>\n",
       "      <td>Yes</td>\n",
       "    </tr>\n",
       "    <tr>\n",
       "      <th>4</th>\n",
       "      <td>Yes</td>\n",
       "      <td>Yes</td>\n",
       "    </tr>\n",
       "  </tbody>\n",
       "</table>\n",
       "</div>"
      ],
      "text/plain": [
       "  have_computer_home internet_at_home\n",
       "0                Yes              Yes\n",
       "1                Yes              Yes\n",
       "4                Yes              Yes"
      ]
     },
     "execution_count": 412,
     "metadata": {},
     "output_type": "execute_result"
    }
   ],
   "source": [
    "# Select specifie\n",
    "percent_both = both_yes[[\"have_computer_home\",\"internet_at_home\"]]\n",
    "percent_both.head(3)"
   ]
  },
  {
   "cell_type": "code",
   "execution_count": 413,
   "metadata": {},
   "outputs": [
    {
     "data": {
      "text/plain": [
       "have_computer_home  internet_at_home\n",
       "Yes                 Yes                 202\n",
       "dtype: int64"
      ]
     },
     "execution_count": 413,
     "metadata": {},
     "output_type": "execute_result"
    }
   ],
   "source": [
    "# Control the some for both\n",
    "result_percent_both_yes = percent_both.value_counts()\n",
    "result_percent_both_yes"
   ]
  },
  {
   "cell_type": "code",
   "execution_count": 414,
   "metadata": {},
   "outputs": [
    {
     "name": "stdout",
     "output_type": "stream",
     "text": [
      "We have 202 students with a laptop, and an internet connection\n"
     ]
    }
   ],
   "source": [
    "# Sum of total students\n",
    "print(\"We have\",result_percent_both_yes.sum(),\"students with a laptop, and an internet connection\")"
   ]
  },
  {
   "cell_type": "markdown",
   "metadata": {},
   "source": [
    "#### Data visualization"
   ]
  },
  {
   "cell_type": "code",
   "execution_count": null,
   "metadata": {},
   "outputs": [],
   "source": []
  },
  {
   "cell_type": "markdown",
   "metadata": {},
   "source": [
    "## Question 7. What are the most effective communication channels (Alumni, Facebook, WhatsApp, Friend ...) that will allow a women to be susceptible to selection"
   ]
  },
  {
   "cell_type": "code",
   "execution_count": 345,
   "metadata": {},
   "outputs": [
    {
     "data": {
      "text/html": [
       "<div>\n",
       "<style scoped>\n",
       "    .dataframe tbody tr th:only-of-type {\n",
       "        vertical-align: middle;\n",
       "    }\n",
       "\n",
       "    .dataframe tbody tr th {\n",
       "        vertical-align: top;\n",
       "    }\n",
       "\n",
       "    .dataframe thead th {\n",
       "        text-align: right;\n",
       "    }\n",
       "</style>\n",
       "<table border=\"1\" class=\"dataframe\">\n",
       "  <thead>\n",
       "    <tr style=\"text-align: right;\">\n",
       "      <th></th>\n",
       "      <th>Unnamed: 0</th>\n",
       "      <th>gender</th>\n",
       "      <th>dob</th>\n",
       "      <th>Commune_Id</th>\n",
       "      <th>created_at</th>\n",
       "      <th>modified_at</th>\n",
       "      <th>department</th>\n",
       "      <th>education_level</th>\n",
       "      <th>university</th>\n",
       "      <th>study_domain</th>\n",
       "      <th>current_employed</th>\n",
       "      <th>formal_sector_job</th>\n",
       "      <th>have_computer_home</th>\n",
       "      <th>internet_at_home</th>\n",
       "      <th>hear_AA_1</th>\n",
       "      <th>after_AA</th>\n",
       "      <th>quest_id</th>\n",
       "    </tr>\n",
       "  </thead>\n",
       "  <tbody>\n",
       "    <tr>\n",
       "      <th>0</th>\n",
       "      <td>0</td>\n",
       "      <td>male</td>\n",
       "      <td>25/08/1998</td>\n",
       "      <td>HT0111</td>\n",
       "      <td>2021-02-14T23:03:52.768400Z</td>\n",
       "      <td>2021-02-14T23:03:52.768462Z</td>\n",
       "      <td>no info</td>\n",
       "      <td>unknown</td>\n",
       "      <td>unknown</td>\n",
       "      <td>[]</td>\n",
       "      <td>unknown</td>\n",
       "      <td>unknown</td>\n",
       "      <td>unknown</td>\n",
       "      <td>unknown</td>\n",
       "      <td>unknown</td>\n",
       "      <td>unknown</td>\n",
       "      <td>905dc006-ce95-11eb-b2f9-7c67a234f601</td>\n",
       "    </tr>\n",
       "    <tr>\n",
       "      <th>1</th>\n",
       "      <td>1</td>\n",
       "      <td>female</td>\n",
       "      <td>29/09/1996</td>\n",
       "      <td>HT0111</td>\n",
       "      <td>2021-02-16T16:01:10.861844Z</td>\n",
       "      <td>2021-02-16T16:01:10.861899Z</td>\n",
       "      <td>ht01</td>\n",
       "      <td>Bachelors (bacc +4)</td>\n",
       "      <td>other</td>\n",
       "      <td>['other']</td>\n",
       "      <td>No</td>\n",
       "      <td>unknown</td>\n",
       "      <td>Yes</td>\n",
       "      <td>Yes</td>\n",
       "      <td>Friend</td>\n",
       "      <td>Finding a job/internship</td>\n",
       "      <td>905ddcf2-ce95-11eb-9a92-7c67a234f601</td>\n",
       "    </tr>\n",
       "    <tr>\n",
       "      <th>2</th>\n",
       "      <td>2</td>\n",
       "      <td>male</td>\n",
       "      <td>17/05/1996</td>\n",
       "      <td>HT0111</td>\n",
       "      <td>2021-02-16T16:56:30.579504Z</td>\n",
       "      <td>2021-02-16T16:56:30.579563Z</td>\n",
       "      <td>ht01</td>\n",
       "      <td>Bachelors (bacc +4)</td>\n",
       "      <td>Université d'Etat d'Haïti (UEH)</td>\n",
       "      <td>[]</td>\n",
       "      <td>No</td>\n",
       "      <td>unknown</td>\n",
       "      <td>Yes</td>\n",
       "      <td>Yes</td>\n",
       "      <td>Friend</td>\n",
       "      <td>Improving my data analysis skills</td>\n",
       "      <td>905e2608-ce95-11eb-809f-7c67a234f601</td>\n",
       "    </tr>\n",
       "  </tbody>\n",
       "</table>\n",
       "</div>"
      ],
      "text/plain": [
       "   Unnamed: 0  gender         dob Commune_Id                   created_at  \\\n",
       "0           0    male  25/08/1998     HT0111  2021-02-14T23:03:52.768400Z   \n",
       "1           1  female  29/09/1996     HT0111  2021-02-16T16:01:10.861844Z   \n",
       "2           2    male  17/05/1996     HT0111  2021-02-16T16:56:30.579504Z   \n",
       "\n",
       "                   modified_at department      education_level  \\\n",
       "0  2021-02-14T23:03:52.768462Z    no info              unknown   \n",
       "1  2021-02-16T16:01:10.861899Z       ht01  Bachelors (bacc +4)   \n",
       "2  2021-02-16T16:56:30.579563Z       ht01  Bachelors (bacc +4)   \n",
       "\n",
       "                        university study_domain current_employed  \\\n",
       "0                          unknown           []          unknown   \n",
       "1                            other    ['other']               No   \n",
       "2  Université d'Etat d'Haïti (UEH)           []               No   \n",
       "\n",
       "  formal_sector_job have_computer_home internet_at_home hear_AA_1  \\\n",
       "0           unknown            unknown          unknown   unknown   \n",
       "1           unknown                Yes              Yes    Friend   \n",
       "2           unknown                Yes              Yes    Friend   \n",
       "\n",
       "                            after_AA                              quest_id  \n",
       "0                            unknown  905dc006-ce95-11eb-b2f9-7c67a234f601  \n",
       "1           Finding a job/internship  905ddcf2-ce95-11eb-9a92-7c67a234f601  \n",
       "2  Improving my data analysis skills  905e2608-ce95-11eb-809f-7c67a234f601  "
      ]
     },
     "execution_count": 345,
     "metadata": {},
     "output_type": "execute_result"
    }
   ],
   "source": [
    "# Let's check our questions dataframe to see what columns we are going to work on\n",
    "clean_quest_df.head(3)"
   ]
  },
  {
   "cell_type": "code",
   "execution_count": 347,
   "metadata": {},
   "outputs": [],
   "source": [
    "# Let's make a new dataframe with only our needed columns\n",
    "new_df_channels = clean_quest_df[[\"gender\",\"hear_AA_1\"]]"
   ]
  },
  {
   "cell_type": "code",
   "execution_count": 349,
   "metadata": {},
   "outputs": [
    {
     "data": {
      "text/html": [
       "<div>\n",
       "<style scoped>\n",
       "    .dataframe tbody tr th:only-of-type {\n",
       "        vertical-align: middle;\n",
       "    }\n",
       "\n",
       "    .dataframe tbody tr th {\n",
       "        vertical-align: top;\n",
       "    }\n",
       "\n",
       "    .dataframe thead th {\n",
       "        text-align: right;\n",
       "    }\n",
       "</style>\n",
       "<table border=\"1\" class=\"dataframe\">\n",
       "  <thead>\n",
       "    <tr style=\"text-align: right;\">\n",
       "      <th></th>\n",
       "      <th>gender</th>\n",
       "      <th>hear_AA_1</th>\n",
       "    </tr>\n",
       "  </thead>\n",
       "  <tbody>\n",
       "    <tr>\n",
       "      <th>0</th>\n",
       "      <td>male</td>\n",
       "      <td>unknown</td>\n",
       "    </tr>\n",
       "    <tr>\n",
       "      <th>1</th>\n",
       "      <td>female</td>\n",
       "      <td>Friend</td>\n",
       "    </tr>\n",
       "  </tbody>\n",
       "</table>\n",
       "</div>"
      ],
      "text/plain": [
       "   gender hear_AA_1\n",
       "0    male   unknown\n",
       "1  female    Friend"
      ]
     },
     "execution_count": 349,
     "metadata": {},
     "output_type": "execute_result"
    }
   ],
   "source": [
    "# Display our new DF\n",
    "new_df_channels.head(2)"
   ]
  },
  {
   "cell_type": "code",
   "execution_count": 466,
   "metadata": {},
   "outputs": [
    {
     "data": {
      "text/html": [
       "<div>\n",
       "<style scoped>\n",
       "    .dataframe tbody tr th:only-of-type {\n",
       "        vertical-align: middle;\n",
       "    }\n",
       "\n",
       "    .dataframe tbody tr th {\n",
       "        vertical-align: top;\n",
       "    }\n",
       "\n",
       "    .dataframe thead th {\n",
       "        text-align: right;\n",
       "    }\n",
       "</style>\n",
       "<table border=\"1\" class=\"dataframe\">\n",
       "  <thead>\n",
       "    <tr style=\"text-align: right;\">\n",
       "      <th></th>\n",
       "      <th>gender</th>\n",
       "      <th>hear_AA_1</th>\n",
       "    </tr>\n",
       "  </thead>\n",
       "  <tbody>\n",
       "    <tr>\n",
       "      <th>1</th>\n",
       "      <td>female</td>\n",
       "      <td>Friend</td>\n",
       "    </tr>\n",
       "    <tr>\n",
       "      <th>6</th>\n",
       "      <td>female</td>\n",
       "      <td>WhatsApp</td>\n",
       "    </tr>\n",
       "    <tr>\n",
       "      <th>7</th>\n",
       "      <td>female</td>\n",
       "      <td>WhatsApp</td>\n",
       "    </tr>\n",
       "  </tbody>\n",
       "</table>\n",
       "</div>"
      ],
      "text/plain": [
       "   gender hear_AA_1\n",
       "1  female    Friend\n",
       "6  female  WhatsApp\n",
       "7  female  WhatsApp"
      ]
     },
     "execution_count": 466,
     "metadata": {},
     "output_type": "execute_result"
    }
   ],
   "source": [
    "# Display only Females to see their most effective communication channels\n",
    "only_females_df_channels = new_df_channels.loc[(new_df_channels[\"gender\"] == \"female\")]\n",
    "only_females_df_channels.head(3)"
   ]
  },
  {
   "cell_type": "code",
   "execution_count": 467,
   "metadata": {},
   "outputs": [
    {
     "name": "stdout",
     "output_type": "stream",
     "text": [
      "We have 47 Females\n"
     ]
    }
   ],
   "source": [
    "# Overview our new dataframe\n",
    "row,col = only_females_df_channels.shape\n",
    "print(\"We have\", row, \"Females\")"
   ]
  },
  {
   "cell_type": "code",
   "execution_count": 494,
   "metadata": {},
   "outputs": [
    {
     "data": {
      "text/plain": [
       "gender  hear_AA_1              \n",
       "female  Friend                     11\n",
       "        WhatsApp                    9\n",
       "        Bootcamp Alumni             8\n",
       "        Facebook                    6\n",
       "        ESIH                        5\n",
       "        Ayiti Analytics Website     4\n",
       "        other                       2\n",
       "        LinkedIn                    1\n",
       "        Instagram                   1\n",
       "dtype: int64"
      ]
     },
     "execution_count": 494,
     "metadata": {},
     "output_type": "execute_result"
    }
   ],
   "source": [
    "# Now let's check for their most effective communication channels\n",
    "final_channels = only_females_df_channels.value_counts()\n",
    "final_channels"
   ]
  },
  {
   "cell_type": "markdown",
   "metadata": {},
   "source": [
    "#### Data visualization"
   ]
  },
  {
   "cell_type": "code",
   "execution_count": 496,
   "metadata": {},
   "outputs": [
    {
     "data": {
      "text/plain": [
       "<AxesSubplot:xlabel='gender,hear_AA_1'>"
      ]
     },
     "execution_count": 496,
     "metadata": {},
     "output_type": "execute_result"
    },
    {
     "data": {
      "image/png": "[encoded data removed]",
      "text/plain": [
       "<Figure size 432x288 with 1 Axes>"
      ]
     },
     "metadata": {
      "needs_background": "light"
     },
     "output_type": "display_data"
    }
   ],
   "source": [
    "final_channels.plot(kind='bar')\n"
   ]
  },
  {
   "cell_type": "code",
   "execution_count": null,
   "metadata": {},
   "outputs": [],
   "source": []
  },
  {
   "cell_type": "markdown",
   "metadata": {},
   "source": [
    "**Conclusion:**  As we can see thier Top communication channels are Friends, Whatsapp, Bootcamp Alumni."
   ]
  }
 ],
 "metadata": {
  "interpreter": {
   "hash": "e4e9227d832dc9e17768780106ce3b9f84d4a17fc850b44b5e5a05f23459cc7d"
  },
  "kernelspec": {
   "display_name": "Python 3",
   "language": "python",
   "name": "python3"
  },
  "language_info": {
   "codemirror_mode": {
    "name": "ipython",
    "version": 3
   },
   "file_extension": ".py",
   "mimetype": "text/x-python",
   "name": "python",
   "nbconvert_exporter": "python",
   "pygments_lexer": "ipython3",
   "version": "3.8.5"
  },
  "metadata": {
   "interpreter": {
    "hash": "aee8b7b246df8f9039afb4144a1f6fd8d2ca17a180786b69acc140d282b71a49"
   }
  }
 },
 "nbformat": 4,
 "nbformat_minor": 4
}
